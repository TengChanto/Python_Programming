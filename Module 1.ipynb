{
 "cells": [
  {
   "cell_type": "code",
   "execution_count": 1,
   "metadata": {},
   "outputs": [
    {
     "name": "stdout",
     "output_type": "stream",
     "text": [
      "Hello\n"
     ]
    }
   ],
   "source": [
    "print(\"Hello\")"
   ]
  },
  {
   "cell_type": "code",
   "execution_count": 3,
   "metadata": {},
   "outputs": [
    {
     "name": "stdout",
     "output_type": "stream",
     "text": [
      "35\n"
     ]
    }
   ],
   "source": [
    "import keyword\n",
    "print(len(keyword.kwlist))"
   ]
  },
  {
   "cell_type": "code",
   "execution_count": 2,
   "metadata": {},
   "outputs": [
    {
     "name": "stdout",
     "output_type": "stream",
     "text": [
      "3.8.5 (default, Sep  3 2020, 21:29:08) [MSC v.1916 64 bit (AMD64)]\n"
     ]
    }
   ],
   "source": [
    "import sys\n",
    "print(sys.version)"
   ]
  },
  {
   "cell_type": "code",
   "execution_count": 3,
   "metadata": {},
   "outputs": [
    {
     "name": "stdout",
     "output_type": "stream",
     "text": [
      "5\n",
      "6\n",
      "7\n",
      "8\n",
      "9\n"
     ]
    }
   ],
   "source": [
    "for a in range(10):\n",
    "    if a>4:\n",
    "        print(a)"
   ]
  },
  {
   "cell_type": "code",
   "execution_count": 4,
   "metadata": {},
   "outputs": [
    {
     "name": "stdout",
     "output_type": "stream",
     "text": [
      "[[1, 2, 3], [1, 3, 4]]\n"
     ]
    }
   ],
   "source": [
    "a=[[1,2,3],[1,3,4]]\n",
    "print(a)"
   ]
  },
  {
   "cell_type": "code",
   "execution_count": 5,
   "metadata": {},
   "outputs": [
    {
     "name": "stdout",
     "output_type": "stream",
     "text": [
      "[4, 'aaaaa', 3]\n"
     ]
    }
   ],
   "source": [
    "b=[1+3,\"a\"*5,3]\n",
    "print(b)"
   ]
  },
  {
   "cell_type": "code",
   "execution_count": 6,
   "metadata": {},
   "outputs": [
    {
     "name": "stdout",
     "output_type": "stream",
     "text": [
      "21.4\n"
     ]
    }
   ],
   "source": [
    "y = 10 - 3 + 9 * 8 / 5 \n",
    "print(y)"
   ]
  },
  {
   "cell_type": "code",
   "execution_count": 7,
   "metadata": {},
   "outputs": [
    {
     "name": "stdout",
     "output_type": "stream",
     "text": [
      "206.6\n"
     ]
    }
   ],
   "source": [
    "x = (100+3) * 2 + 3 / 5 \n",
    "print(x)"
   ]
  },
  {
   "cell_type": "code",
   "execution_count": 8,
   "metadata": {},
   "outputs": [
    {
     "name": "stdout",
     "output_type": "stream",
     "text": [
      "Apple\tis\tgood\tfor\thealth\n"
     ]
    }
   ],
   "source": [
    "fruit = \"Apple\"\n",
    "condition1 = \"good\" \n",
    "condition2 = \"health\"\n",
    "a=fruit+\"\\tis\\t\"+condition1+\"\\tfor\\t\"+condition2\n",
    "print(a)"
   ]
  },
  {
   "cell_type": "code",
   "execution_count": 9,
   "metadata": {},
   "outputs": [
    {
     "name": "stdout",
     "output_type": "stream",
     "text": [
      "A paragraph is a series of related sentences developing a central idea, called the topic. Try to think about paragraphs in terms of thematic unity: a paragraph is a sentence or a group of sentences that supports one central, unified idea. Paragraphs add one idea at a time to your broader argument.\n"
     ]
    }
   ],
   "source": [
    "my_word = \"A paragraph is a series of related sentences developing a central idea, called the topic. Try to think about paragraphs in terms of thematic unity: a paragraph is a sentence or a group of sentences that supports one central, unified idea. Paragraphs add one idea at a time to your broader argument.\"\n",
    "print(my_word)"
   ]
  },
  {
   "cell_type": "code",
   "execution_count": 10,
   "metadata": {},
   "outputs": [
    {
     "name": "stdout",
     "output_type": "stream",
     "text": [
      "False\n"
     ]
    }
   ],
   "source": [
    "print(my_word.startswith(\"paragaph\"))"
   ]
  },
  {
   "cell_type": "code",
   "execution_count": 11,
   "metadata": {},
   "outputs": [
    {
     "name": "stdout",
     "output_type": "stream",
     "text": [
      "Either one of my name\n"
     ]
    }
   ],
   "source": [
    "name=\"Hong\"\n",
    "if name==\"Bisak\" or name==\"valerie\":\n",
    "    print(\"My name is either David or Valerie\")\n",
    "else:\n",
    "    print(\"Either one of my name\")"
   ]
  },
  {
   "cell_type": "code",
   "execution_count": 12,
   "metadata": {},
   "outputs": [
    {
     "name": "stdout",
     "output_type": "stream",
     "text": [
      "a smallest number\n"
     ]
    }
   ],
   "source": [
    "a=1/2\n",
    "b=2/3\n",
    "c=3/4\n",
    "d=4/5\n",
    "\n",
    "if(a>b):\n",
    "    print(\"a is greater than b\")\n",
    "if(b>c):\n",
    "    print(\"b is greater than c\")\n",
    "if(c>d):\n",
    "    print(\"c is greater than d\")\n",
    "if a<b and b<c and c<d:\n",
    "    print(\"a smallest number\")"
   ]
  },
  {
   "cell_type": "code",
   "execution_count": 13,
   "metadata": {},
   "outputs": [
    {
     "name": "stdout",
     "output_type": "stream",
     "text": [
      "corge\n",
      "qux\n",
      "baz\n",
      "Done\n"
     ]
    }
   ],
   "source": [
    "a=['foo','bar','baz','qux','corge']\n",
    "while a:\n",
    "    if len(a)<3:\n",
    "        break\n",
    "    print(a.pop())\n",
    "print('Done')"
   ]
  },
  {
   "cell_type": "code",
   "execution_count": 14,
   "metadata": {},
   "outputs": [
    {
     "name": "stdout",
     "output_type": "stream",
     "text": [
      "12.5\n",
      "3.125\n",
      "0.78125\n"
     ]
    }
   ],
   "source": [
    "error=50\n",
    "while error>1:\n",
    "    error=error/4\n",
    "    print(error)"
   ]
  },
  {
   "cell_type": "code",
   "execution_count": 15,
   "metadata": {},
   "outputs": [
    {
     "name": "stdout",
     "output_type": "stream",
     "text": [
      "heo\n"
     ]
    }
   ],
   "source": [
    "print(\"heo\")"
   ]
  },
  {
   "cell_type": "code",
   "execution_count": 16,
   "metadata": {},
   "outputs": [
    {
     "name": "stdout",
     "output_type": "stream",
     "text": [
      "False\n"
     ]
    }
   ],
   "source": [
    "print(my_word.startswith(\"paragaph\"))"
   ]
  },
  {
   "cell_type": "code",
   "execution_count": 17,
   "metadata": {},
   "outputs": [
    {
     "name": "stdout",
     "output_type": "stream",
     "text": [
      "paragraph\n"
     ]
    }
   ],
   "source": [
    "print(my_word[2:11])"
   ]
  },
  {
   "cell_type": "code",
   "execution_count": 18,
   "metadata": {},
   "outputs": [
    {
     "name": "stdout",
     "output_type": "stream",
     "text": [
      "PARAGRAPH\n"
     ]
    }
   ],
   "source": [
    "print(my_word[2:11].upper())"
   ]
  },
  {
   "cell_type": "code",
   "execution_count": 19,
   "metadata": {},
   "outputs": [
    {
     "name": "stdout",
     "output_type": "stream",
     "text": [
      "total number is 20\n"
     ]
    }
   ],
   "source": [
    "numbers=[2,3,4,5,6]\n",
    "total=0\n",
    "\n",
    "for num in numbers:\n",
    "    total=total+num\n",
    "print(\"total number is\",total)"
   ]
  },
  {
   "cell_type": "code",
   "execution_count": 20,
   "metadata": {},
   "outputs": [
    {
     "name": "stdout",
     "output_type": "stream",
     "text": [
      "Blu is a bird\n",
      "Woo is also a bird\n",
      "Blu is 10 years old\n",
      "Woo is 15 years old\n"
     ]
    }
   ],
   "source": [
    "class Parrot:\n",
    "    species= \"bird\"\n",
    "    \n",
    "    def __init__(self, name, age):\n",
    "        self.name = name\n",
    "        self.age = age\n",
    "blu = Parrot(\"Blu\", 10)\n",
    "woo = Parrot(\"Woo\", 15)\n",
    "\n",
    "print(\"Blu is a {}\".format(blu.__class__.species))\n",
    "print(\"Woo is also a {}\".format(woo.__class__.species))\n",
    "print(\"{} is {} years old\".format( blu.name, blu.age))\n",
    "print(\"{} is {} years old\".format( woo.name, woo.age)) "
   ]
  },
  {
   "cell_type": "code",
   "execution_count": 21,
   "metadata": {},
   "outputs": [
    {
     "name": "stdout",
     "output_type": "stream",
     "text": [
      "Blu is a bird\n",
      "Woo is also a bird\n",
      "Blu is 10 years old\n",
      "Woo is 15 years old\n"
     ]
    }
   ],
   "source": [
    "class Parrot:\n",
    "# class attribute\n",
    "    species = \"bird\"\n",
    "# instance attribute\n",
    "    def __init__(self, name, age):\n",
    "        self.name = name\n",
    "        self.age = age\n",
    "# instantiate the Parrot class\n",
    "blu = Parrot(\"Blu\", 10)\n",
    "woo = Parrot(\"Woo\", 15)\n",
    "# access the class attributes\n",
    "print(\"Blu is a {}\".format(blu.__class__.species))\n",
    "print(\"Woo is also a {}\".format(woo.__class__.species))\n",
    "# access the instance attributes\n",
    "print(\"{} is {} years old\".format( blu.name, blu.age))\n",
    "print(\"{} is {} years old\".format( woo.name, woo.age))"
   ]
  },
  {
   "cell_type": "code",
   "execution_count": 22,
   "metadata": {},
   "outputs": [
    {
     "name": "stdout",
     "output_type": "stream",
     "text": [
      "chanto sings 'Happy'\n",
      "chanto is now dancing\n"
     ]
    }
   ],
   "source": [
    "class Parrot:\n",
    "    \n",
    "    def __init__(self, name, age):\n",
    "        self.name = name\n",
    "        self.age = age\n",
    "    \n",
    "    def sing(self, song):\n",
    "        return \"{} sings {}\".format(self.name, song)\n",
    "    def dance(self):\n",
    "        return \"{} is now dancing\".format(self.name)\n",
    "blu=Parrot(\"chanto\",20)\n",
    "\n",
    "# call our instance methods\n",
    "print(blu.sing(\"'Happy'\"))\n",
    "print(blu.dance())"
   ]
  },
  {
   "cell_type": "code",
   "execution_count": 23,
   "metadata": {},
   "outputs": [
    {
     "name": "stdout",
     "output_type": "stream",
     "text": [
      "Blu sings 'Happy'\n",
      "Blu is now dancing\n"
     ]
    }
   ],
   "source": [
    "class Parrot:\n",
    "# instance attributes\n",
    "    def __init__(self, name, age):\n",
    "        self.name = name\n",
    "        self.age = age\n",
    "# instance method\n",
    "    def sing(self, song):\n",
    "        return \"{} sings {}\".format(self.name, song)\n",
    "    def dance(self):\n",
    "        return \"{} is now dancing\".format(self.name)\n",
    "# instantiate the object\n",
    "blu = Parrot(\"Blu\", 10)\n",
    "# call our instance methods\n",
    "print(blu.sing(\"'Happy'\"))\n",
    "print(blu.dance())"
   ]
  },
  {
   "cell_type": "code",
   "execution_count": 24,
   "metadata": {},
   "outputs": [
    {
     "name": "stdout",
     "output_type": "stream",
     "text": [
      "Bird is ready\n",
      "Penguin is ready\n",
      "Penguin\n"
     ]
    }
   ],
   "source": [
    "class Bird:\n",
    "    def __init__(self):\n",
    "        print(\"Bird is ready\")\n",
    "    def whoisThis(self):\n",
    "        print(\"Bird\")\n",
    "    def swim(self):\n",
    "        print(\"Swim faster\")\n",
    "# child class\n",
    "class Penguin(Bird):\n",
    "    def __init__(self):\n",
    "# call super() function\n",
    "        super().__init__()\n",
    "        print(\"Penguin is ready\")\n",
    "    def whoisThis(self):\n",
    "        print(\"Penguin\")\n",
    "    def run(self):\n",
    "        print(\"Run faster\")\n",
    "peggy = Penguin()\n",
    "peggy.whoisThis()"
   ]
  },
  {
   "cell_type": "code",
   "execution_count": 25,
   "metadata": {},
   "outputs": [
    {
     "name": "stdout",
     "output_type": "stream",
     "text": [
      "White\n"
     ]
    }
   ],
   "source": [
    "class Dog:\n",
    "    \n",
    "    def __init__(self, color, legs):\n",
    "        self.color= color\n",
    "        self.legs= legs\n",
    "\n",
    "bb = Dog(\"White\", 4)\n",
    "print(bb.color)"
   ]
  },
  {
   "cell_type": "code",
   "execution_count": 26,
   "metadata": {},
   "outputs": [],
   "source": [
    "class Animal:\n",
    "    def __init__(self, name, color):\n",
    "        self.name=name\n",
    "        self.color=color\n",
    "\n",
    "class Cat(Animal):\n",
    "    def purr(self):\n",
    "        print(Cat.purr('3'))   "
   ]
  },
  {
   "cell_type": "code",
   "execution_count": 27,
   "metadata": {},
   "outputs": [
    {
     "name": "stdout",
     "output_type": "stream",
     "text": [
      "the sum of {0} and {1} is {2} 50\n"
     ]
    }
   ],
   "source": [
    "num1=20\n",
    "num2=30\n",
    "sum=num1+num2\n",
    "print('the sum of {0} and {1} is {2}',sum)"
   ]
  },
  {
   "cell_type": "code",
   "execution_count": 28,
   "metadata": {},
   "outputs": [
    {
     "name": "stdout",
     "output_type": "stream",
     "text": [
      "Enther the number15.5\n",
      "Enther the number24.6\n",
      "the sum of {0} and {1} is {2} 10.1\n"
     ]
    }
   ],
   "source": [
    "num1=input(\"Enther the number1\")\n",
    "num2=input(\"Enther the number2\")\n",
    "\n",
    "sum=float(num1)+float(num2)\n",
    "print('the sum of {0} and {1} is {2}',sum)"
   ]
  },
  {
   "cell_type": "markdown",
   "metadata": {},
   "source": [
    "num=9\n",
    "square_root=num**0.5\n",
    "print('The square root of %0.3f is %0.3f'%(num ,num_sqrt))"
   ]
  },
  {
   "cell_type": "code",
   "execution_count": 29,
   "metadata": {},
   "outputs": [
    {
     "name": "stdout",
     "output_type": "stream",
     "text": [
      "The square root of 9.000 is 3.000\n"
     ]
    }
   ],
   "source": [
    "num=9 \n",
    "num_sqrt=num**0.5\n",
    "print('The square root of %0.3f is %0.3f'%(num ,num_sqrt))"
   ]
  },
  {
   "cell_type": "code",
   "execution_count": 30,
   "metadata": {},
   "outputs": [
    {
     "name": "stdout",
     "output_type": "stream",
     "text": [
      "Enter number a\n",
      "5\n",
      "Enter number b\n",
      "7\n",
      "Enter numb c\n",
      "8\n",
      "the area of rectangle 17.32\n"
     ]
    }
   ],
   "source": [
    "a=float(input(\"Enter number a\\n\"))\n",
    "b=float(input(\"Enter number b\\n\"))\n",
    "c=float(input(\"Enter numb c\\n\"))\n",
    "\n",
    "s=(a+b+c)/2\n",
    "area=(s*(s-a)*(s-b)*(s-c))**0.5\n",
    "print('the area of rectangle %0.2f'%area)"
   ]
  },
  {
   "cell_type": "code",
   "execution_count": 31,
   "metadata": {},
   "outputs": [
    {
     "name": "stdout",
     "output_type": "stream",
     "text": [
      "Enter first side: 6.5\n",
      "Enter second side: 6.3\n",
      "Enter third side: 8.1\n",
      "The area of the triangle is 20.06\n"
     ]
    }
   ],
   "source": [
    "# Python Program to find the area of triangle\n",
    "\n",
    "#a = 5\n",
    "#b = 6\n",
    "#c = 7\n",
    "\n",
    "# Uncomment below to take inputs from the user\n",
    "a = float(input('Enter first side: '))\n",
    "b = float(input('Enter second side: '))\n",
    "c = float(input('Enter third side: '))\n",
    "\n",
    "# calculate the semi-perimeter\n",
    "s = (a + b + c) / 2\n",
    "\n",
    "# calculate the area\n",
    "area = (s*(s-a)*(s-b)*(s-c)) ** 0.5\n",
    "print('The area of the triangle is %0.2f'%area)"
   ]
  },
  {
   "cell_type": "code",
   "execution_count": 32,
   "metadata": {},
   "outputs": [
    {
     "name": "stdout",
     "output_type": "stream",
     "text": [
      "the solution are (-1-1.4142135623730951j) and (-1+1.4142135623730951j)\n"
     ]
    }
   ],
   "source": [
    "import cmath\n",
    "\n",
    "a=1\n",
    "b=2\n",
    "c=3\n",
    "\n",
    "d=(b**2)-(4*a*c)\n",
    "\n",
    "sol1 = (-b-cmath.sqrt(d))/(2*a)\n",
    "sol2 = (-b+cmath.sqrt(d))/(2*a)\n",
    "print('the solution are {0} and {1}'.format(sol1,sol2))"
   ]
  },
  {
   "cell_type": "code",
   "execution_count": 33,
   "metadata": {},
   "outputs": [
    {
     "name": "stdout",
     "output_type": "stream",
     "text": [
      "The solution are (-3+0j) and (-2+0j)\n"
     ]
    }
   ],
   "source": [
    "import cmath\n",
    "\n",
    "a = 1\n",
    "b = 5\n",
    "c = 6\n",
    "\n",
    "# calculate the discriminant\n",
    "d = (b**2) - (4*a*c)\n",
    "\n",
    "# find two solutions\n",
    "sol1 = (-b-cmath.sqrt(d))/(2*a)\n",
    "sol2 = (-b+cmath.sqrt(d))/(2*a)\n",
    "\n",
    "print('The solution are {0} and {1}'.format(sol1,sol2))"
   ]
  },
  {
   "cell_type": "code",
   "execution_count": 34,
   "metadata": {},
   "outputs": [
    {
     "name": "stdout",
     "output_type": "stream",
     "text": [
      "The value of x after swapping: 4\n",
      "The value of y after swapping: 9\n"
     ]
    }
   ],
   "source": [
    "a=9\n",
    "b=4\n",
    "\n",
    "temp=a\n",
    "a=b\n",
    "b=temp\n",
    "\n",
    "print('The value of x after swapping: {}'.format(a))\n",
    "print('The value of y after swapping: {}'.format(b))"
   ]
  },
  {
   "cell_type": "code",
   "execution_count": 35,
   "metadata": {},
   "outputs": [
    {
     "name": "stdout",
     "output_type": "stream",
     "text": [
      "total 1275\n"
     ]
    }
   ],
   "source": [
    "n=50\n",
    "sum=0\n",
    "i=1\n",
    "\n",
    "while i<=n:\n",
    "    sum=sum+i\n",
    "    i=i+1\n",
    "print(\"total\", sum)"
   ]
  },
  {
   "cell_type": "code",
   "execution_count": 36,
   "metadata": {},
   "outputs": [
    {
     "name": "stdout",
     "output_type": "stream",
     "text": [
      "s\n",
      "t\n",
      "r\n",
      "i\n",
      "g\n",
      "The end\n"
     ]
    }
   ],
   "source": [
    "for val in \"string\":\n",
    "    if val == \"n\":\n",
    "        continue\n",
    "    print(val)\n",
    "\n",
    "print(\"The end\")"
   ]
  },
  {
   "cell_type": "code",
   "execution_count": 37,
   "metadata": {},
   "outputs": [
    {
     "name": "stdout",
     "output_type": "stream",
     "text": [
      "hello\n",
      "what is your name\n"
     ]
    }
   ],
   "source": [
    "def greet():\n",
    "    print(\"hello\")\n",
    "    print(\"what is your name\")\n",
    "greet()"
   ]
  },
  {
   "cell_type": "code",
   "execution_count": 38,
   "metadata": {},
   "outputs": [
    {
     "name": "stdout",
     "output_type": "stream",
     "text": [
      "heemloo chanto\n"
     ]
    }
   ],
   "source": [
    "def greet(name):\n",
    "    print(\"heemloo\",name)\n",
    "greet('chanto')"
   ]
  },
  {
   "cell_type": "code",
   "execution_count": 39,
   "metadata": {},
   "outputs": [
    {
     "name": "stdout",
     "output_type": "stream",
     "text": [
      "4\n"
     ]
    }
   ],
   "source": [
    "def add(n1,n2):\n",
    "    sum=n1+n2\n",
    "    return sum\n",
    "\n",
    "result=add(4,0)\n",
    "print(result)"
   ]
  },
  {
   "cell_type": "code",
   "execution_count": 40,
   "metadata": {},
   "outputs": [
    {
     "name": "stdout",
     "output_type": "stream",
     "text": [
      "Hello Monica\n",
      "Hello Luke\n",
      "Hello Steve\n",
      "Hello John\n"
     ]
    }
   ],
   "source": [
    "def greet(*names):\n",
    "    for name in names:\n",
    "        print(\"Hello\", name)\n",
    "greet(\"Monica\", \"Luke\", \"Steve\", \"John\")"
   ]
  },
  {
   "cell_type": "code",
   "execution_count": 41,
   "metadata": {},
   "outputs": [
    {
     "name": "stdout",
     "output_type": "stream",
     "text": [
      "The factorial of 7 is 5040\n"
     ]
    }
   ],
   "source": [
    "def factorial(x):\n",
    "    \n",
    "    if x == 1:\n",
    "        return 1\n",
    "    else:\n",
    "        return (x * factorial(x-1))\n",
    "\n",
    "\n",
    "num = 7\n",
    "print(\"The factorial of\", num, \"is\", factorial(num))"
   ]
  },
  {
   "cell_type": "code",
   "execution_count": 42,
   "metadata": {},
   "outputs": [
    {
     "name": "stdout",
     "output_type": "stream",
     "text": [
      "[4, 6, 8, 12]\n"
     ]
    }
   ],
   "source": [
    "my_list = [1, 5, 4, 6, 8, 11, 3, 12]\n",
    "\n",
    "new_list = list(filter(lambda x: (x%2 == 0) , my_list))\n",
    "\n",
    "print(new_list)"
   ]
  },
  {
   "cell_type": "code",
   "execution_count": 43,
   "metadata": {},
   "outputs": [
    {
     "data": {
      "text/plain": [
       "7"
      ]
     },
     "execution_count": 43,
     "metadata": {},
     "output_type": "execute_result"
    }
   ],
   "source": [
    "larger=lambda a,b:a if a>b else b\n",
    "larger(0,7)"
   ]
  },
  {
   "cell_type": "code",
   "execution_count": 44,
   "metadata": {},
   "outputs": [
    {
     "name": "stdout",
     "output_type": "stream",
     "text": [
      "10\n"
     ]
    }
   ],
   "source": [
    "double = lambda x: x * 2\n",
    "\n",
    "print(double(5))"
   ]
  },
  {
   "cell_type": "code",
   "execution_count": 45,
   "metadata": {},
   "outputs": [
    {
     "name": "stdout",
     "output_type": "stream",
     "text": [
      "inner: nonlocal\n",
      "outer: nonlocal\n"
     ]
    }
   ],
   "source": [
    "def outer():\n",
    "    x = \"local\"\n",
    "\n",
    "    def inner():\n",
    "        nonlocal x\n",
    "        x = \"nonlocal\"\n",
    "        print(\"inner:\", x)\n",
    "\n",
    "    inner()\n",
    "    print(\"outer:\", x)\n",
    "\n",
    "\n",
    "outer()"
   ]
  },
  {
   "cell_type": "code",
   "execution_count": 46,
   "metadata": {},
   "outputs": [
    {
     "name": "stdout",
     "output_type": "stream",
     "text": [
      "a\n",
      "b\n",
      "c\n"
     ]
    }
   ],
   "source": [
    "lists=['a','b','c']\n",
    "for lan in lists:\n",
    "    print(lan)"
   ]
  },
  {
   "cell_type": "code",
   "execution_count": 47,
   "metadata": {},
   "outputs": [
    {
     "name": "stdout",
     "output_type": "stream",
     "text": [
      "['a', 'd', 'b', 'c']\n"
     ]
    }
   ],
   "source": [
    "lists.insert(1,\"d\")\n",
    "print(lists)"
   ]
  },
  {
   "cell_type": "code",
   "execution_count": 48,
   "metadata": {},
   "outputs": [
    {
     "name": "stdout",
     "output_type": "stream",
     "text": [
      "{2, 3, 4, 5, 6}\n"
     ]
    }
   ],
   "source": [
    "number1={2,4,5,6}\n",
    "number2={4,5,3,2}\n",
    "number1.update(number2)\n",
    "print(number1)"
   ]
  },
  {
   "cell_type": "code",
   "execution_count": 49,
   "metadata": {},
   "outputs": [
    {
     "name": "stdout",
     "output_type": "stream",
     "text": [
      "{4, 5}\n"
     ]
    }
   ],
   "source": [
    "A = {1, 2, 3, 4, 5}\n",
    "B = {4, 5, 6, 7, 8}\n",
    "print(A & B)"
   ]
  },
  {
   "cell_type": "code",
   "execution_count": 50,
   "metadata": {},
   "outputs": [
    {
     "name": "stdout",
     "output_type": "stream",
     "text": [
      "True\n",
      "True\n",
      "False\n"
     ]
    }
   ],
   "source": [
    "# Membership Test for Dictionary Keys\n",
    "squares = {1: 1, 3: 9, 5: 25, 7: 49, 9: 81}\n",
    "\n",
    "# Output: True\n",
    "print(1 in squares)\n",
    "\n",
    "# Output: True\n",
    "print(2 not in squares)\n",
    "\n",
    "# membership tests for key only not value\n",
    "# Output: False\n",
    "print(49 in squares)"
   ]
  },
  {
   "cell_type": "code",
   "execution_count": 51,
   "metadata": {},
   "outputs": [
    {
     "name": "stdout",
     "output_type": "stream",
     "text": [
      "1\n",
      "9\n",
      "25\n",
      "49\n",
      "81\n"
     ]
    }
   ],
   "source": [
    "squares = {1: 1, 3: 9, 5: 25, 7: 49, 9: 81}\n",
    "for i in squares:\n",
    "    print(squares[i])"
   ]
  },
  {
   "cell_type": "code",
   "execution_count": 52,
   "metadata": {},
   "outputs": [
    {
     "name": "stdout",
     "output_type": "stream",
     "text": [
      "True\n",
      "False\n"
     ]
    }
   ],
   "source": [
    "class Student:\n",
    "    def check_pass_fail(self):\n",
    "        if self.marks>=40:\n",
    "            return True\n",
    "        else:\n",
    "            return False\n",
    "    \n",
    "student1=Student()\n",
    "student1.name=\"Harry\"\n",
    "student1.marks=85\n",
    "did_pass=student1.check_pass_fail()\n",
    "print(did_pass)\n",
    "\n",
    "student2=Student()\n",
    "student2.name=\"Janet\"\n",
    "student2.marks=30\n",
    "did_fail=student2.check_pass_fail()\n",
    "print(did_fail)"
   ]
  },
  {
   "cell_type": "code",
   "execution_count": 53,
   "metadata": {},
   "outputs": [
    {
     "name": "stdout",
     "output_type": "stream",
     "text": [
      "False\n",
      "True\n"
     ]
    }
   ],
   "source": [
    "class Student:\n",
    "    def check_pass_fail(self):\n",
    "        if self.marks>=40:\n",
    "            return True\n",
    "        else:\n",
    "            return False\n",
    "        \n",
    "    def __init__(self,name,marks):\n",
    "        self.name=name\n",
    "        self.marks=marks\n",
    "    \n",
    "student1=Student(\"Harry\",9)\n",
    "student2=Student(\"Janet\",90)\n",
    "did_pass=student1.check_pass_fail()\n",
    "print(did_pass)\n",
    "did_fail=student2.check_pass_fail()\n",
    "print(did_fail)"
   ]
  },
  {
   "cell_type": "code",
   "execution_count": 54,
   "metadata": {},
   "outputs": [
    {
     "name": "stdout",
     "output_type": "stream",
     "text": [
      "real= 1\n",
      "imag= 8\n"
     ]
    }
   ],
   "source": [
    "class Complex:\n",
    "    def __init__(self,real,imag):\n",
    "        self.real= real\n",
    "        self.imag= imag\n",
    "        \n",
    "    def add(self, number):\n",
    "        real=self.real + number.real\n",
    "        imag=self.imag + number.imag\n",
    "        result=Complex(real, imag)\n",
    "        return result\n",
    "    \n",
    "n1=Complex(5,6)\n",
    "n2=Complex(-4,2)\n",
    "result=n1.add(n2)\n",
    "print(\"real=\",result.real)\n",
    "print(\"imag=\",result.imag)"
   ]
  },
  {
   "cell_type": "code",
   "execution_count": 55,
   "metadata": {},
   "outputs": [
    {
     "name": "stdout",
     "output_type": "stream",
     "text": [
      "9\n"
     ]
    }
   ],
   "source": [
    "from datetime import date\n",
    "\n",
    "f_date=date(2014,7,2)\n",
    "l_date=date(2014,7,11)\n",
    "delta=l_date-f_date\n",
    "print(delta.days)"
   ]
  },
  {
   "cell_type": "code",
   "execution_count": 56,
   "metadata": {},
   "outputs": [
    {
     "name": "stdout",
     "output_type": "stream",
     "text": [
      "10\n",
      "3\n"
     ]
    }
   ],
   "source": [
    "def difference(n):\n",
    "    if n<=17:\n",
    "        return 17-n\n",
    "    else:\n",
    "        return (n-17)*2\n",
    "    \n",
    "print(difference(22))\n",
    "print(difference(14))"
   ]
  },
  {
   "cell_type": "code",
   "execution_count": 57,
   "metadata": {},
   "outputs": [
    {
     "name": "stdout",
     "output_type": "stream",
     "text": [
      "False\n"
     ]
    }
   ],
   "source": [
    "def near_thousand(n):\n",
    "    return ((abs(1000-n)<=100) or (abs(2000-n)<=100))\n",
    "print(near_thousand(800))"
   ]
  },
  {
   "cell_type": "code",
   "execution_count": 58,
   "metadata": {},
   "outputs": [
    {
     "name": "stdout",
     "output_type": "stream",
     "text": [
      "None\n",
      "36\n"
     ]
    }
   ],
   "source": [
    "def sum_thrice(x,y,z):\n",
    "    sum=x+y+z\n",
    "    \n",
    "    if x==y==z:\n",
    "        sum=sum*3\n",
    "        return sum\n",
    "print(sum_thrice(1,2,3))\n",
    "print(sum_thrice(4,4,4))"
   ]
  },
  {
   "cell_type": "code",
   "execution_count": 59,
   "metadata": {},
   "outputs": [
    {
     "name": "stdout",
     "output_type": "stream",
     "text": [
      "IsI\n",
      "IsI\n"
     ]
    }
   ],
   "source": [
    "def new_string(str):\n",
    "    if len(str)>=2 and str[:2]==\"Is\":\n",
    "        return str\n",
    "    return \"Is\"+str\n",
    "\n",
    "print(new_string(\"I\"))\n",
    "print(new_string(\"I\"))"
   ]
  },
  {
   "cell_type": "code",
   "execution_count": 60,
   "metadata": {},
   "outputs": [
    {
     "name": "stdout",
     "output_type": "stream",
     "text": [
      " .tito.tito.tito\n"
     ]
    }
   ],
   "source": [
    "def larger_string(str,n):\n",
    "    result=\" \"\n",
    "    for i in range(n):\n",
    "        result=result+str\n",
    "    return result\n",
    "print(larger_string(\".tito\",3))"
   ]
  },
  {
   "cell_type": "code",
   "execution_count": 61,
   "metadata": {},
   "outputs": [
    {
     "name": "stdout",
     "output_type": "stream",
     "text": [
      "Enter the number :67\n",
      "this is odd number\n"
     ]
    }
   ],
   "source": [
    "number=int(input(\"Enter the number :\"))\n",
    "\n",
    "\n",
    "if number%2==0:\n",
    "    print(\"this is even number\")\n",
    "else:\n",
    "    print(\"this is odd number\")"
   ]
  },
  {
   "cell_type": "code",
   "execution_count": 62,
   "metadata": {},
   "outputs": [
    {
     "name": "stdout",
     "output_type": "stream",
     "text": [
      "4\n"
     ]
    }
   ],
   "source": [
    "def list_count_4(nums):\n",
    "    count=0\n",
    "    for num in nums:\n",
    "        if num==4:\n",
    "            count=count+1\n",
    "    return count\n",
    "print(list_count_4([4,4,4,4]))"
   ]
  },
  {
   "cell_type": "code",
   "execution_count": 63,
   "metadata": {},
   "outputs": [
    {
     "name": "stdout",
     "output_type": "stream",
     "text": [
      "True\n",
      "True\n"
     ]
    }
   ],
   "source": [
    "def is_vowel(char):\n",
    "    all_vowels='aeiou'\n",
    "    return char in all_vowels\n",
    "print(is_vowel('a'))\n",
    "print(is_vowel('u'))"
   ]
  },
  {
   "cell_type": "code",
   "execution_count": 64,
   "metadata": {},
   "outputs": [
    {
     "name": "stdout",
     "output_type": "stream",
     "text": [
      "True\n",
      "False\n"
     ]
    }
   ],
   "source": [
    "def number(numbers,n):\n",
    "    for value in numbers:\n",
    "        if n==value:\n",
    "            return True\n",
    "    return False\n",
    "print(number([1,5,3,7],7))\n",
    "print(number([-4,-2,5,3],0))"
   ]
  },
  {
   "cell_type": "code",
   "execution_count": 65,
   "metadata": {},
   "outputs": [
    {
     "name": "stdout",
     "output_type": "stream",
     "text": [
      "*\n",
      "**\n",
      "***\n",
      "****\n",
      "*****\n",
      "******\n",
      "*******\n"
     ]
    }
   ],
   "source": [
    "def histogram(items):\n",
    "    for n in items:\n",
    "        output=''\n",
    "        times=n\n",
    "        while(times>0):\n",
    "            output+='*'\n",
    "            times=times-1\n",
    "        print(output)\n",
    "histogram([1,2,3,4,5,6,7])"
   ]
  },
  {
   "cell_type": "code",
   "execution_count": 66,
   "metadata": {},
   "outputs": [
    {
     "name": "stdout",
     "output_type": "stream",
     "text": [
      "1457678\n"
     ]
    }
   ],
   "source": [
    "def add_elements(list):\n",
    "    result=''\n",
    "    for elements in list:\n",
    "        result+=str(elements)\n",
    "    return result\n",
    "print(add_elements([1,4,5,7,6,7,8]))"
   ]
  },
  {
   "cell_type": "code",
   "execution_count": 67,
   "metadata": {},
   "outputs": [
    {
     "name": "stdout",
     "output_type": "stream",
     "text": [
      "{'green'}\n"
     ]
    }
   ],
   "source": [
    "color_1=set([\"white\",\"black\",\"red\"])\n",
    "color_2=set([\"red\",\"green\"])\n",
    "print(color_2.difference(color_1))"
   ]
  },
  {
   "cell_type": "code",
   "execution_count": 68,
   "metadata": {},
   "outputs": [
    {
     "name": "stdout",
     "output_type": "stream",
     "text": [
      "Input the base:5\n",
      "Input the height:8\n",
      "area= 20.0\n"
     ]
    }
   ],
   "source": [
    "a=float(input(\"Input the base:\"))\n",
    "b=float(input(\"Input the height:\"))\n",
    "area=a*b/2\n",
    "print(\"area=\",area)"
   ]
  },
  {
   "cell_type": "code",
   "execution_count": 69,
   "metadata": {},
   "outputs": [
    {
     "name": "stdout",
     "output_type": "stream",
     "text": [
      "4\n"
     ]
    }
   ],
   "source": [
    "def gcd(x,y):\n",
    "    gcd=1\n",
    "    \n",
    "    if x%y==0:\n",
    "        return y\n",
    "    \n",
    "    for k in range(int(y/2),0,-1):\n",
    "        if x%k==0 and y%k==0:\n",
    "            gcd=k\n",
    "            break \n",
    "    return gcd\n",
    "print(gcd(100,36))"
   ]
  },
  {
   "cell_type": "code",
   "execution_count": 70,
   "metadata": {},
   "outputs": [
    {
     "name": "stdout",
     "output_type": "stream",
     "text": [
      "Name: chanto\n",
      "Age: 30\n",
      "Address:Bangalore ,kanataka,India\n"
     ]
    }
   ],
   "source": [
    "def personal_details():\n",
    "    name,age=\"chanto\",30\n",
    "    address=\"Bangalore ,kanataka,India\"\n",
    "    print(\"Name: {}\\nAge: {}\\nAddress:{}\".format(name,age,address))\n",
    "    \n",
    "personal_details()"
   ]
  },
  {
   "cell_type": "code",
   "execution_count": 71,
   "metadata": {},
   "outputs": [
    {
     "name": "stdout",
     "output_type": "stream",
     "text": [
      "(5+6)^2)=121\n"
     ]
    }
   ],
   "source": [
    "x,y=5,6\n",
    "result=x*x+2*x*y+y*y\n",
    "print(\"({}+{})^2)={}\".format(x,y,result))"
   ]
  },
  {
   "cell_type": "code",
   "execution_count": 72,
   "metadata": {},
   "outputs": [
    {
     "name": "stdout",
     "output_type": "stream",
     "text": [
      "12722.79\n"
     ]
    }
   ],
   "source": [
    "amt=10000\n",
    "int=3.5\n",
    "years=7\n",
    "\n",
    "future_value=amt*((1+(0.01*int)) ** years)\n",
    "print(round(future_value,2))"
   ]
  },
  {
   "cell_type": "code",
   "execution_count": 73,
   "metadata": {},
   "outputs": [
    {
     "name": "stdout",
     "output_type": "stream",
     "text": [
      "5.830951894845301\n"
     ]
    }
   ],
   "source": [
    "import math\n",
    "\n",
    "x1=[5, 6]\n",
    "y1=[2, 1]\n",
    "\n",
    "distance=math.sqrt(((x1[0]-y1[0])**2)+((x1[1]-y1[1])**2))\n",
    "print(distance)"
   ]
  },
  {
   "cell_type": "code",
   "execution_count": 74,
   "metadata": {},
   "outputs": [
    {
     "name": "stdout",
     "output_type": "stream",
     "text": [
      "True\n"
     ]
    }
   ],
   "source": [
    "import os.path\n",
    "\n",
    "open('abc.txt','w')\n",
    "print(os.path.isfile('abc.txt'))"
   ]
  },
  {
   "cell_type": "code",
   "execution_count": 75,
   "metadata": {},
   "outputs": [
    {
     "name": "stdout",
     "output_type": "stream",
     "text": [
      "The sum of digits in the numbers is 16\n"
     ]
    }
   ],
   "source": [
    "x=5245 //1000\n",
    "x1=(5245-x*1000)//100\n",
    "x2=(5245-x*1000-x1*100)//10\n",
    "x3=5245-x*1000-x1*100-x2*10\n",
    "print(\"The sum of digits in the numbers is\",x+x1+x2+x3)"
   ]
  },
  {
   "cell_type": "code",
   "execution_count": 76,
   "metadata": {},
   "outputs": [
    {
     "name": "stdout",
     "output_type": "stream",
     "text": [
      "The sum of digits in the number is 16\n"
     ]
    }
   ],
   "source": [
    "x  = 5245//1000\n",
    "x1 = (5245 - x*1000)//100\n",
    "x2 = (5245 - x*1000 - x1*100)//10\n",
    "x3 = 5245 - x*1000 - x1*100 - x2*10\n",
    "print(\"The sum of digits in the number is\", x+x1+x2+x3)"
   ]
  },
  {
   "cell_type": "code",
   "execution_count": 77,
   "metadata": {},
   "outputs": [
    {
     "name": "stdout",
     "output_type": "stream",
     "text": [
      "Input a number7\n",
      "It is positive number\n"
     ]
    }
   ],
   "source": [
    "numbers=float(input(\"Input a number\"))\n",
    "if numbers>0:\n",
    "    print(\"It is positive number\")\n",
    "elif numbers==0:\n",
    "    print(\"It is Zero\")\n",
    "else:\n",
    "    print(\"It is a negative number\")"
   ]
  },
  {
   "cell_type": "code",
   "execution_count": 78,
   "metadata": {},
   "outputs": [
    {
     "name": "stdout",
     "output_type": "stream",
     "text": [
      "original numbers in the lists: [34, 1, 0, 25]\n",
      "Posotive numbers in the list: [34, 1, 0, 25]\n"
     ]
    }
   ],
   "source": [
    "nums=[34,1,0,25]\n",
    "print(\"original numbers in the lists:\",nums)\n",
    "new_nums=list(filter(lambda y: y>=0 ,nums))\n",
    "print(\"Posotive numbers in the list:\",new_nums)"
   ]
  },
  {
   "cell_type": "code",
   "execution_count": 79,
   "metadata": {},
   "outputs": [
    {
     "name": "stdout",
     "output_type": "stream",
     "text": [
      "True\n",
      "False\n"
     ]
    }
   ],
   "source": [
    "def test_distinct(data):\n",
    "    if len(data)== len(set(data)):\n",
    "        return True\n",
    "    else:\n",
    "        return False;\n",
    "print(test_distinct([1,4,5,6]))\n",
    "print(test_distinct([4,5,5,6,4,9]))"
   ]
  },
  {
   "cell_type": "code",
   "execution_count": 80,
   "metadata": {},
   "outputs": [
    {
     "name": "stdout",
     "output_type": "stream",
     "text": [
      "oiuae\n"
     ]
    }
   ],
   "source": [
    "import random\n",
    "\n",
    "char_list=['a','e','i','o','u']\n",
    "random.shuffle(char_list)\n",
    "print(''.join(char_list))"
   ]
  },
  {
   "cell_type": "code",
   "execution_count": 81,
   "metadata": {},
   "outputs": [
    {
     "name": "stdout",
     "output_type": "stream",
     "text": [
      "Texas Democrats Walk Out, Stop Republican's Sweeping Voting Restrictions - NPR\n",
      "https://news.google.com/__i/rss/rd/articles/CBMicGh0dHBzOi8vd3d3Lm5wci5vcmcvMjAyMS8wNS8zMS8xMDAxODExOTE5L3RleGFzLWRlbW9jcmF0cy13YWxrLW91dC1zdG9wLXJlcHVibGljYW5zLXN3ZWVwaW5nLXZvdGluZy1yZXN0cmljdGlvbnPSAQA?oc=5\n",
      "Mon, 31 May 2021 06:09:00 GMT\n",
      "------------------------------------------------------------\n",
      "China Announces a Three-Child Policy - The New York Times\n",
      "https://news.google.com/__i/rss/rd/articles/CBMiS2h0dHBzOi8vd3d3Lm55dGltZXMuY29tLzIwMjEvMDUvMzEvd29ybGQvYXNpYS9jaGluYS10aHJlZS1jaGlsZC1wb2xpY3kuaHRtbNIBT2h0dHBzOi8vd3d3Lm55dGltZXMuY29tLzIwMjEvMDUvMzEvd29ybGQvYXNpYS9jaGluYS10aHJlZS1jaGlsZC1wb2xpY3kuYW1wLmh0bWw?oc=5\n",
      "Mon, 31 May 2021 08:31:23 GMT\n",
      "------------------------------------------------------------\n",
      "Israel coalition government a threat to security, warns Netanyahu - BBC News\n",
      "https://news.google.com/__i/rss/rd/articles/CBMiM2h0dHBzOi8vd3d3LmJiYy5jb20vbmV3cy93b3JsZC1taWRkbGUtZWFzdC01NzMwMjgxNNIBN2h0dHBzOi8vd3d3LmJiYy5jb20vbmV3cy93b3JsZC1taWRkbGUtZWFzdC01NzMwMjgxNC5hbXA?oc=5\n",
      "Mon, 31 May 2021 08:31:23 GMT\n",
      "------------------------------------------------------------\n",
      "‘Worst phone call of my life’: Mother of Miami banquet hall shooting victim speaks out - Fox News\n",
      "https://news.google.com/__i/rss/rd/articles/CBMibmh0dHBzOi8vd3d3LmZveG5ld3MuY29tL3VzL3dvcnN0LXBob25lLWNhbGwtb2YtbXktbGlmZS1tb3RoZXItb2YtbWlhbWktYmFucXVldC1oYWxsLXNob290aW5nLXZpY3RpbS1zcGVha3Mtb3V00gFyaHR0cHM6Ly93d3cuZm94bmV3cy5jb20vdXMvd29yc3QtcGhvbmUtY2FsbC1vZi1teS1saWZlLW1vdGhlci1vZi1taWFtaS1iYW5xdWV0LWhhbGwtc2hvb3RpbmctdmljdGltLXNwZWFrcy1vdXQuYW1w?oc=5\n",
      "Mon, 31 May 2021 00:35:13 GMT\n",
      "------------------------------------------------------------\n",
      "Tulsa churches honor 'holy ground' 100 years after massacre - POLITICO\n",
      "https://news.google.com/__i/rss/rd/articles/CBMiW2h0dHBzOi8vd3d3LnBvbGl0aWNvLmNvbS9uZXdzLzIwMjEvMDUvMzAvdHVsc2Etb2tsYWhvbWEtbWFzc2FjcmUtY2VudGVubmlhbC1jaHVyY2hlcy00OTE0NDfSAQA?oc=5\n",
      "Sun, 30 May 2021 22:53:52 GMT\n",
      "------------------------------------------------------------\n",
      "For Biden, a deeply personal Memorial Day weekend observance - The Associated Press\n",
      "https://news.google.com/__i/rss/rd/articles/CBMie2h0dHBzOi8vYXBuZXdzLmNvbS9hcnRpY2xlL2RvbmFsZC10cnVtcC1oZWFsdGgtY29yb25hdmlydXMtcGFuZGVtaWMtbGlmZXN0eWxlLW1lbW9yaWFsLWRheS1jMzg4NmRlZjgxZjc4Yzc2MmZkMWU5MjAxNDhlZjMyYdIBAA?oc=5\n",
      "Sun, 30 May 2021 19:25:24 GMT\n",
      "------------------------------------------------------------\n",
      "Brentwood church releases official statement following deadly plane crash - WKRN News 2\n",
      "https://news.google.com/__i/rss/rd/articles/CBMib2h0dHBzOi8vd3d3Lndrcm4uY29tL25ld3MvbG9jYWwtbmV3cy9icmVudHdvb2QtY2h1cmNoLXJlbGVhc2VzLW9mZmljaWFsLXN0YXRlbWVudC1mb2xsb3dpbmctZGVhZGx5LXBsYW5lLWNyYXNoL9IBc2h0dHBzOi8vd3d3Lndrcm4uY29tL25ld3MvbG9jYWwtbmV3cy9icmVudHdvb2QtY2h1cmNoLXJlbGVhc2VzLW9mZmljaWFsLXN0YXRlbWVudC1mb2xsb3dpbmctZGVhZGx5LXBsYW5lLWNyYXNoL2FtcC8?oc=5\n",
      "Sun, 30 May 2021 23:21:02 GMT\n",
      "------------------------------------------------------------\n",
      "'Tarzan' TV series actor among 7 plane crash victims in Tennessee - 10TV\n",
      "https://news.google.com/__i/rss/rd/articles/CBMif2h0dHA6Ly93d3cuMTB0di5jb20vYXJ0aWNsZS9uZXdzL25hdGlvbi13b3JsZC90ZW5uZXNzZWUtcGxhbmUtY3Jhc2gtdmljdGltcy1pZGVudGlmaWVkLzUwNy1kZjc2NDg4OS1kYmFmLTQ0NmUtOThiOS1jNjBhNWE5MGVkZWHSAYQBaHR0cHM6Ly93d3cuMTB0di5jb20vYW1wL2FydGljbGUvbmV3cy9uYXRpb24td29ybGQvdGVubmVzc2VlLXBsYW5lLWNyYXNoLXZpY3RpbXMtaWRlbnRpZmllZC81MDctZGY3NjQ4ODktZGJhZi00NDZlLTk4YjktYzYwYTVhOTBlZGVh?oc=5\n",
      "Sun, 30 May 2021 20:11:00 GMT\n",
      "------------------------------------------------------------\n",
      "Alabama family's vehicle plunges into lake; at least 4 killed, including 2 kids: report - Fox News\n",
      "https://news.google.com/__i/rss/rd/articles/CBMiS2h0dHBzOi8vd3d3LmZveG5ld3MuY29tL3VzL2FsYWJhbWEtZmFtaWx5LXZlaGljbGUtbGFrZS00LWtpbGxlZC1raWRzLXJlcG9ydNIBT2h0dHBzOi8vd3d3LmZveG5ld3MuY29tL3VzL2FsYWJhbWEtZmFtaWx5LXZlaGljbGUtbGFrZS00LWtpbGxlZC1raWRzLXJlcG9ydC5hbXA?oc=5\n",
      "Mon, 31 May 2021 07:00:53 GMT\n",
      "------------------------------------------------------------\n",
      "VTA light rail service suspended until further notice, buses running along routes - SFGate\n",
      "https://news.google.com/__i/rss/rd/articles/CBMiZ2h0dHBzOi8vd3d3LnNmZ2F0ZS5jb20vbmV3cy9iYXlhcmVhL2FydGljbGUvVnRhLUxpZ2h0LVJhaWwtU2VydmljZS1TdXNwZW5kZWQtVW50aWwtRnVydGhlci0xNjIxNDA0MC5waHDSAQA?oc=5\n",
      "Mon, 31 May 2021 01:27:13 GMT\n",
      "------------------------------------------------------------\n",
      "After 215 bodies found at school site, Canada requests flags lowered - 9News.com KUSA\n",
      "https://news.google.com/__i/rss/rd/articles/CBMirAFodHRwOi8vd3d3LjluZXdzLmNvbS9hcnRpY2xlL25ld3MvbmF0aW9uLXdvcmxkLzIxNS1ib2RpZXMtZm91bmQtYXQtaW5kaWdlbm91cy1yZXNpZGVudGlhbC1zY2hvb2wtc2l0ZS1jYW5hZGEtcmVxdWVzdHMtZmxhZ3MtbG93ZXJlZC81MDctMjQ4Njc3OWEtOTYzMC00MDY3LWJkYjYtNDNjMmFjNjRiZDQ10gGxAWh0dHBzOi8vd3d3LjluZXdzLmNvbS9hbXAvYXJ0aWNsZS9uZXdzL25hdGlvbi13b3JsZC8yMTUtYm9kaWVzLWZvdW5kLWF0LWluZGlnZW5vdXMtcmVzaWRlbnRpYWwtc2Nob29sLXNpdGUtY2FuYWRhLXJlcXVlc3RzLWZsYWdzLWxvd2VyZWQvNTA3LTI0ODY3NzlhLTk2MzAtNDA2Ny1iZGI2LTQzYzJhYzY0YmQ0NQ?oc=5\n",
      "Sun, 30 May 2021 22:08:00 GMT\n",
      "------------------------------------------------------------\n",
      "Mohammed Deif: The one-eyed Hamas chief in Israel's crosshairs - BBC News\n",
      "https://news.google.com/__i/rss/rd/articles/CBMiM2h0dHBzOi8vd3d3LmJiYy5jb20vbmV3cy93b3JsZC1taWRkbGUtZWFzdC01NzI1MzUyMdIBN2h0dHBzOi8vd3d3LmJiYy5jb20vbmV3cy93b3JsZC1taWRkbGUtZWFzdC01NzI1MzUyMS5hbXA?oc=5\n",
      "Sun, 30 May 2021 23:09:01 GMT\n",
      "------------------------------------------------------------\n",
      "Vietnam detects a suspected new coronavirus variant that's a hybrid of the UK and India strains - CNN \n",
      "https://news.google.com/__i/rss/rd/articles/CBMiU2h0dHBzOi8vd3d3LmNubi5jb20vMjAyMS8wNS8zMS9hc2lhL3ZpZXRuYW0tY29yb25hdmlydXMtdmFyaWFudC1pbnRsLWhuay9pbmRleC5odG1s0gFXaHR0cHM6Ly9hbXAuY25uLmNvbS9jbm4vMjAyMS8wNS8zMS9hc2lhL3ZpZXRuYW0tY29yb25hdmlydXMtdmFyaWFudC1pbnRsLWhuay9pbmRleC5odG1s?oc=5\n",
      "Mon, 31 May 2021 06:58:00 GMT\n",
      "------------------------------------------------------------\n",
      "New wedding photos show Boris Johnson and new bride Carrie Symonds - New York Post \n",
      "https://news.google.com/__i/rss/rd/articles/CBMiXWh0dHBzOi8vbnlwb3N0LmNvbS8yMDIxLzA1LzMwL3dlZGRpbmctcGhvdG9zLXNob3ctYm9yaXMtam9obnNvbi1hbmQtbmV3LWJyaWRlLWNhcnJpZS1zeW1vbmRzL9IBYWh0dHBzOi8vbnlwb3N0LmNvbS8yMDIxLzA1LzMwL3dlZGRpbmctcGhvdG9zLXNob3ctYm9yaXMtam9obnNvbi1hbmQtbmV3LWJyaWRlLWNhcnJpZS1zeW1vbmRzL2FtcC8?oc=5\n",
      "Sun, 30 May 2021 18:56:00 GMT\n",
      "------------------------------------------------------------\n",
      "Johnson & Johnson asks high court to void $2B talc verdict - The Associated Press\n",
      "https://news.google.com/__i/rss/rd/articles/CBMigwFodHRwczovL2FwbmV3cy5jb20vYXJ0aWNsZS9uai1zdGF0ZS13aXJlLWpvaG5zb24tYW5kLWpvaG5zb24tdXMtc3VwcmVtZS1jb3VydC1taWNoYWVsLWJyb3duLWNvdXJ0cy0zN2ViODAxOTNiZDA0MTI4Njg2NDM5MmE3NjRhMjA2ONIBAA?oc=5\n",
      "Mon, 31 May 2021 05:39:51 GMT\n",
      "------------------------------------------------------------\n",
      "Intel reiterates chip supply shortages could last several years - Reuters\n",
      "https://news.google.com/__i/rss/rd/articles/CBMibmh0dHBzOi8vd3d3LnJldXRlcnMuY29tL3RlY2hub2xvZ3kvaW50ZWwtcmVpdGVyYXRlcy1jaGlwLXN1cHBseS1zaG9ydGFnZXMtY291bGQtbGFzdC1zZXZlcmFsLXllYXJzLTIwMjEtMDUtMzEv0gEA?oc=5\n",
      "Mon, 31 May 2021 04:47:00 GMT\n",
      "------------------------------------------------------------\n",
      "Stock Market Today: Dow, S&P Live Updates for May 31 - Bloomberg\n",
      "https://news.google.com/__i/rss/rd/articles/CBMicWh0dHBzOi8vd3d3LmJsb29tYmVyZy5jb20vbmV3cy9hcnRpY2xlcy8yMDIxLTA1LTMwL2FzaWEtc3RvY2tzLWV5ZS1tdXRlZC1zdGFydC10by13ZWVrLWRvbGxhci1zdGVhZHktbWFya2V0cy13cmFw0gEA?oc=5\n",
      "Sun, 30 May 2021 21:14:46 GMT\n",
      "------------------------------------------------------------\n",
      "Bitcoin is headed toward its worst month since 2011; 'Rich Dad, Poor Dad' author says that's 'great news' - MarketWatch\n",
      "https://news.google.com/__i/rss/rd/articles/CBMikAFodHRwczovL3d3dy5tYXJrZXR3YXRjaC5jb20vc3RvcnkvYml0Y29pbi1pcy1oZWFkZWQtdG93YXJkLWl0cy13b3JzdC1tb250aC1zaW5jZS0yMDExLXJpY2gtZGFkLXBvb3ItZGFkLWF1dGhvci1zYXlzLXRoYXRzLWdyZWF0LW5ld3MtMTE2MjI0MTY0ODXSAZQBaHR0cHM6Ly93d3cubWFya2V0d2F0Y2guY29tL2FtcC9zdG9yeS9iaXRjb2luLWlzLWhlYWRlZC10b3dhcmQtaXRzLXdvcnN0LW1vbnRoLXNpbmNlLTIwMTEtcmljaC1kYWQtcG9vci1kYWQtYXV0aG9yLXNheXMtdGhhdHMtZ3JlYXQtbmV3cy0xMTYyMjQxNjQ4NQ?oc=5\n",
      "Sun, 30 May 2021 23:14:00 GMT\n",
      "------------------------------------------------------------\n",
      "Intel Beefs Up 11th-Gen Laptop Processors With Better Graphics and Faster Wifi - Gizmodo\n",
      "https://news.google.com/__i/rss/rd/articles/CBMiVmh0dHBzOi8vZ2l6bW9kby5jb20vaW50ZWwtYmVlZnMtdXAtMTF0aC1nZW4tbGFwdG9wLXByb2Nlc3NvcnMtd2l0aC1iZXR0ZXItZy0xODQ2OTg1NjM50gFaaHR0cHM6Ly9naXptb2RvLmNvbS9pbnRlbC1iZWVmcy11cC0xMXRoLWdlbi1sYXB0b3AtcHJvY2Vzc29ycy13aXRoLWJldHRlci1nLTE4NDY5ODU2MzkvYW1w?oc=5\n",
      "Mon, 31 May 2021 02:30:00 GMT\n",
      "------------------------------------------------------------\n",
      "Xiaomi says it can now fully charge a phone in eight minutes at 200W - The Verge\n",
      "https://news.google.com/__i/rss/rd/articles/CBMiZmh0dHBzOi8vd3d3LnRoZXZlcmdlLmNvbS8yMDIxLzUvMzAvMjI0NjE0MzUveGlhb21pLWZhc3QtY2hhcmdpbmctd29ybGQtcmVjb3JkLTIwMHctd2lyZWQtMTIwdy13aXJlbGVzc9IBc2h0dHBzOi8vd3d3LnRoZXZlcmdlLmNvbS9wbGF0Zm9ybS9hbXAvMjAyMS81LzMwLzIyNDYxNDM1L3hpYW9taS1mYXN0LWNoYXJnaW5nLXdvcmxkLXJlY29yZC0yMDB3LXdpcmVkLTEyMHctd2lyZWxlc3M?oc=5\n",
      "Mon, 31 May 2021 03:53:32 GMT\n",
      "------------------------------------------------------------\n",
      "Report: Google once made it more difficult for Android users to keep their location private - 9to5Google\n",
      "https://news.google.com/__i/rss/rd/articles/CBMiSWh0dHBzOi8vOXRvNWdvb2dsZS5jb20vMjAyMS8wNS8zMC9nb29nbGUtbG9jYXRpb24tcHJpdmFjeS1sYXdzdWl0LXJlcG9ydC_SAU1odHRwczovLzl0bzVnb29nbGUuY29tLzIwMjEvMDUvMzAvZ29vZ2xlLWxvY2F0aW9uLXByaXZhY3ktbGF3c3VpdC1yZXBvcnQvYW1wLw?oc=5\n",
      "Sun, 30 May 2021 16:51:00 GMT\n",
      "------------------------------------------------------------\n",
      "Sony WF-1000XM4 video just confirmed all the biggest upgrades - Tom's Guide\n",
      "https://news.google.com/__i/rss/rd/articles/CBMiXGh0dHBzOi8vd3d3LnRvbXNndWlkZS5jb20vbmV3cy9zb255LXdmLTEwMDB4bTQtdmlkZW8tanVzdC1jb25maXJtZWQtYWxsLXRoZS1iaWdnZXN0LXVwZ3JhZGVz0gFgaHR0cHM6Ly93d3cudG9tc2d1aWRlLmNvbS9hbXAvbmV3cy9zb255LXdmLTEwMDB4bTQtdmlkZW8tanVzdC1jb25maXJtZWQtYWxsLXRoZS1iaWdnZXN0LXVwZ3JhZGVz?oc=5\n",
      "Sun, 30 May 2021 18:37:39 GMT\n",
      "------------------------------------------------------------\n",
      "'Mare of Easttown' Finale's Julianne Nicholson Breaks Down the Tragic Twist - Daily Beast\n",
      "https://news.google.com/__i/rss/rd/articles/CBMiZmh0dHBzOi8vd3d3LnRoZWRhaWx5YmVhc3QuY29tL21hcmUtb2YtZWFzdHRvd24tZmluYWxlcy1qdWxpYW5uZS1uaWNob2xzb24tYnJlYWtzLWRvd24tdGhlLXRyYWdpYy10d2lzdNIBAA?oc=5\n",
      "Mon, 31 May 2021 03:07:40 GMT\n",
      "------------------------------------------------------------\n",
      "The Opening Weekend for ‘A Quiet Place Part II’ Will Best Entire Box Office of ‘Tenet’ - IndieWire\n",
      "https://news.google.com/__i/rss/rd/articles/CBMibGh0dHBzOi8vd3d3LmluZGlld2lyZS5jb20vMjAyMS8wNS9vcGVuaW5nLXdlZWtlbmQtYS1xdWlldC1wbGFjZS0yLWJldHRlci1lbnRpcmUtYm94LW9mZmljZS10ZW5ldC0xMjM0NjQxMTcwL9IBcGh0dHBzOi8vd3d3LmluZGlld2lyZS5jb20vMjAyMS8wNS9vcGVuaW5nLXdlZWtlbmQtYS1xdWlldC1wbGFjZS0yLWJldHRlci1lbnRpcmUtYm94LW9mZmljZS10ZW5ldC0xMjM0NjQxMTcwL2FtcC8?oc=5\n",
      "Sun, 30 May 2021 19:14:00 GMT\n",
      "------------------------------------------------------------\n",
      "Timbaland & Swizz Beatz’ VERZUZ Rematch: Here’s What Happened - Pitchfork\n",
      "https://news.google.com/__i/rss/rd/articles/CBMiWGh0dHBzOi8vcGl0Y2hmb3JrLmNvbS9uZXdzL3RpbWJhbGFuZC1hbmQtc3dpenotYmVhdHotdmVyenV6LXJlbWF0Y2gtaGVyZXMtd2hhdC1oYXBwZW5lZC_SAVxodHRwczovL3BpdGNoZm9yay5jb20vbmV3cy90aW1iYWxhbmQtYW5kLXN3aXp6LWJlYXR6LXZlcnp1ei1yZW1hdGNoLWhlcmVzLXdoYXQtaGFwcGVuZWQvYW1wLw?oc=5\n",
      "Mon, 31 May 2021 02:26:09 GMT\n",
      "------------------------------------------------------------\n",
      "Olivia Rodrigo Tops Music Charts in Explosive First Week With ‘Sour’ - The Wall Street Journal\n",
      "https://news.google.com/__i/rss/rd/articles/CBMia2h0dHBzOi8vd3d3Lndzai5jb20vYXJ0aWNsZXMvb2xpdmlhLXJvZHJpZ28tdG9wcy1tdXNpYy1jaGFydHMtaW4tZXhwbG9zaXZlLWZpcnN0LXdlZWstd2l0aC1zb3VyLTExNjIyNDE2ODY40gEA?oc=5\n",
      "Sun, 30 May 2021 23:21:00 GMT\n",
      "------------------------------------------------------------\n",
      "Lakers vs. Suns: LeBron James on carrying the load if Anthony Davis misses time: 'I'm ready for the challenge' - CBS Sports\n",
      "https://news.google.com/__i/rss/rd/articles/CBMijAFodHRwczovL3d3dy5jYnNzcG9ydHMuY29tL25iYS9uZXdzL2xha2Vycy12cy1zdW5zLWxlYnJvbi1qYW1lcy1vbi1jYXJyeWluZy10aGUtbG9hZC1pZi1hbnRob255LWRhdmlzLW1pc3Nlcy10aW1lLWltLXJlYWR5LWZvci10aGUtY2hhbGxlbmdlL9IBkAFodHRwczovL3d3dy5jYnNzcG9ydHMuY29tL25iYS9uZXdzL2xha2Vycy12cy1zdW5zLWxlYnJvbi1qYW1lcy1vbi1jYXJyeWluZy10aGUtbG9hZC1pZi1hbnRob255LWRhdmlzLW1pc3Nlcy10aW1lLWltLXJlYWR5LWZvci10aGUtY2hhbGxlbmdlL2FtcC8?oc=5\n",
      "Mon, 31 May 2021 00:52:00 GMT\n",
      "------------------------------------------------------------\n",
      "Kawhi Leonard (29 PTS, 10 REB) Registers Double-Double in Win vs. Dallas Mavericks | LA Clippers - LA Clippers\n",
      "https://news.google.com/__i/rss/rd/articles/CBMiK2h0dHBzOi8vd3d3LnlvdXR1YmUuY29tL3dhdGNoP3Y9eDdtNmI1aTBwVjDSAQA?oc=5\n",
      "Mon, 31 May 2021 06:46:35 GMT\n",
      "------------------------------------------------------------\n",
      "Celtics Fan Arrested After Kyrie Irving Is Nearly Hit by Bottle - The New York Times\n",
      "https://news.google.com/__i/rss/rd/articles/CBMiYWh0dHBzOi8vd3d3Lm55dGltZXMuY29tLzIwMjEvMDUvMzAvc3BvcnRzL2Jhc2tldGJhbGwvbmV0cy1ib3N0b24tY2VsdGljcy1reXJpZS1pcnZpbmctYm90dGxlLmh0bWzSAWVodHRwczovL3d3dy5ueXRpbWVzLmNvbS8yMDIxLzA1LzMwL3Nwb3J0cy9iYXNrZXRiYWxsL25ldHMtYm9zdG9uLWNlbHRpY3Mta3lyaWUtaXJ2aW5nLWJvdHRsZS5hbXAuaHRtbA?oc=5\n",
      "Mon, 31 May 2021 03:33:26 GMT\n",
      "------------------------------------------------------------\n",
      "Kyle Larson gives Hendrick Motorsports record-breaking win at Coca-Cola 600 - ESPN\n",
      "https://news.google.com/__i/rss/rd/articles/CBMigwFodHRwczovL3d3dy5lc3BuLmNvbS9yYWNpbmcvbmFzY2FyL2N1cC9zdG9yeS9fL2lkLzMxNTQwMzkwL2t5bGUtbGFyc29uLWdpdmVzLWhlbmRyaWNrLW1vdG9yc3BvcnRzLXJlY29yZC1icmVha2luZy13aW4tY29jYS1jb2xhLTYwMNIBkAFodHRwczovL3d3dy5lc3BuLmNvbS9yYWNpbmcvbmFzY2FyL2N1cC9zdG9yeS9fL2lkLzMxNTQwMzkwL2t5bGUtbGFyc29uLWdpdmVzLWhlbmRyaWNrLW1vdG9yc3BvcnRzLXJlY29yZC1icmVha2luZy13aW4tY29jYS1jb2xhLTYwMD9wbGF0Zm9ybT1hbXA?oc=5\n",
      "Mon, 31 May 2021 04:38:53 GMT\n",
      "------------------------------------------------------------\n",
      "NASA’s Curiosity Rover Shows Us What Cloudy and Colorful Days on Mars Look Like - Gizmodo\n",
      "https://news.google.com/__i/rss/rd/articles/CBMiVmh0dHBzOi8vZ2l6bW9kby5jb20vbmFzYS1zLWN1cmlvc2l0eS1yb3Zlci1zaG93cy11cy13aGF0LWNsb3VkeS1hbmQtY29sb3JmdS0xODQ3MDAxMTYz0gFaaHR0cHM6Ly9naXptb2RvLmNvbS9uYXNhLXMtY3VyaW9zaXR5LXJvdmVyLXNob3dzLXVzLXdoYXQtY2xvdWR5LWFuZC1jb2xvcmZ1LTE4NDcwMDExNjMvYW1w?oc=5\n",
      "Sun, 30 May 2021 19:39:57 GMT\n",
      "------------------------------------------------------------\n",
      "The best dark matter map to date raises questions about the universe - Engadget\n",
      "https://news.google.com/__i/rss/rd/articles/CBMiN2h0dHBzOi8vd3d3LmVuZ2FkZ2V0LmNvbS9kYXJrLW1hdHRlci1tYXAtMjEyOTUxOTE5Lmh0bWzSATtodHRwczovL3d3dy5lbmdhZGdldC5jb20vYW1wL2RhcmstbWF0dGVyLW1hcC0yMTI5NTE5MTkuaHRtbA?oc=5\n",
      "Sun, 30 May 2021 21:30:52 GMT\n",
      "------------------------------------------------------------\n",
      "Space Debris Has Hit And Damaged The International Space Station - ScienceAlert\n",
      "https://news.google.com/__i/rss/rd/articles/CBMiVWh0dHBzOi8vd3d3LnNjaWVuY2VhbGVydC5jb20vc3BhY2UtZGVicmlzLWhhcy1kYW1hZ2VkLXRoZS1pbnRlcm5hdGlvbmFsLXNwYWNlLXN0YXRpb27SAVlodHRwczovL3d3dy5zY2llbmNlYWxlcnQuY29tL3NwYWNlLWRlYnJpcy1oYXMtZGFtYWdlZC10aGUtaW50ZXJuYXRpb25hbC1zcGFjZS1zdGF0aW9uL2FtcA?oc=5\n",
      "Mon, 31 May 2021 02:43:25 GMT\n",
      "------------------------------------------------------------\n",
      "How to photograph solar eclipse from North America and Europe this June - Digital Camera World\n",
      "https://news.google.com/__i/rss/rd/articles/CBMidGh0dHBzOi8vd3d3LmRpZ2l0YWxjYW1lcmF3b3JsZC5jb20vdHV0b3JpYWxzL2hvdy10by1waG90b2dyYXBoLXNvbGFyLWVjbGlwc2UtZnJvbS1ub3J0aC1hbWVyaWNhLWFuZC1ldXJvcGUtdGhpcy1qdW5l0gF4aHR0cHM6Ly93d3cuZGlnaXRhbGNhbWVyYXdvcmxkLmNvbS9hbXAvdHV0b3JpYWxzL2hvdy10by1waG90b2dyYXBoLXNvbGFyLWVjbGlwc2UtZnJvbS1ub3J0aC1hbWVyaWNhLWFuZC1ldXJvcGUtdGhpcy1qdW5l?oc=5\n",
      "Sun, 30 May 2021 11:39:44 GMT\n",
      "------------------------------------------------------------\n",
      "Can people vaccinated against COVID-19 still spread the virus? What we know so far - WJW FOX 8 News Cleveland\n",
      "https://news.google.com/__i/rss/rd/articles/CBMidGh0dHBzOi8vZm94OC5jb20vbmV3cy9jb3JvbmF2aXJ1cy9jYW4tcGVvcGxlLXZhY2NpbmF0ZWQtYWdhaW5zdC1jb3ZpZC0xOS1zdGlsbC1zcHJlYWQtdGhlLXZpcnVzLXdoYXQtd2Uta25vdy1zby1mYXIv0gF4aHR0cHM6Ly9mb3g4LmNvbS9uZXdzL2Nvcm9uYXZpcnVzL2Nhbi1wZW9wbGUtdmFjY2luYXRlZC1hZ2FpbnN0LWNvdmlkLTE5LXN0aWxsLXNwcmVhZC10aGUtdmlydXMtd2hhdC13ZS1rbm93LXNvLWZhci9hbXAv?oc=5\n",
      "Mon, 31 May 2021 01:29:01 GMT\n",
      "------------------------------------------------------------\n",
      "Coronavirus in Oregon: State reports 257 new cases, 2 deaths - OregonLive\n",
      "https://news.google.com/__i/rss/rd/articles/CBMibmh0dHBzOi8vd3d3Lm9yZWdvbmxpdmUuY29tL2Nvcm9uYXZpcnVzLzIwMjEvMDUvY29yb25hdmlydXMtaW4tb3JlZ29uLXN0YXRlLXJlcG9ydHMtMjU3LW5ldy1jYXNlcy0yLWRlYXRocy5odG1s0gF9aHR0cHM6Ly93d3cub3JlZ29ubGl2ZS5jb20vY29yb25hdmlydXMvMjAyMS8wNS9jb3JvbmF2aXJ1cy1pbi1vcmVnb24tc3RhdGUtcmVwb3J0cy0yNTctbmV3LWNhc2VzLTItZGVhdGhzLmh0bWw_b3V0cHV0VHlwZT1hbXA?oc=5\n",
      "Sun, 30 May 2021 22:43:02 GMT\n",
      "------------------------------------------------------------\n",
      "Australia's Victoria COVID-19 cluster swells to 51, next few days 'critical' - Reuters\n",
      "https://news.google.com/__i/rss/rd/articles/CBMid2h0dHBzOi8vd3d3LnJldXRlcnMuY29tL3dvcmxkL2FzaWEtcGFjaWZpYy9hdXN0cmFsaWFzLXZpY3RvcmlhLXN0YXRlLXJlcG9ydHMtNS1uZXctY29tbXVuaXR5LWNvdmlkLTE5LWNhc2VzLTIwMjEtMDUtMzAv0gEA?oc=5\n",
      "Mon, 31 May 2021 06:02:00 GMT\n",
      "------------------------------------------------------------\n",
      "Illinois COVID Update Today: IL reports 602 cases, 18 deaths - WLS-TV\n",
      "https://news.google.com/__i/rss/rd/articles/CBMiYGh0dHBzOi8vYWJjN2NoaWNhZ28uY29tL2lsbGlub2lzLWNvdmlkLXVwZGF0ZS10b2RheS1jb3ZpZC0xOS1jb3JvbmF2aXJ1cy11cGRhdGVzLWNhc2VzLzEwNzE4NDc4L9IBZGh0dHBzOi8vYWJjN2NoaWNhZ28uY29tL2FtcC9pbGxpbm9pcy1jb3ZpZC11cGRhdGUtdG9kYXktY292aWQtMTktY29yb25hdmlydXMtdXBkYXRlcy1jYXNlcy8xMDcxODQ3OC8?oc=5\n",
      "Sun, 30 May 2021 17:50:25 GMT\n",
      "------------------------------------------------------------\n"
     ]
    }
   ],
   "source": [
    "import bs4\n",
    "from bs4 import BeautifulSoup as soup\n",
    "from urllib.request import urlopen\n",
    "\n",
    "news_url=\"https://news.google.com/news/rss\"\n",
    "Client=urlopen(news_url)\n",
    "xml_page=Client.read()\n",
    "Client.close()\n",
    "\n",
    "soup_page=soup(xml_page,\"xml\")\n",
    "news_list=soup_page.findAll(\"item\")\n",
    "# Print news title, url and publish date\n",
    "for news in news_list:\n",
    "  print(news.title.text)\n",
    "  print(news.link.text)\n",
    "  print(news.pubDate.text)\n",
    "  print(\"-\"*60)\n"
   ]
  },
  {
   "cell_type": "code",
   "execution_count": 83,
   "metadata": {},
   "outputs": [
    {
     "name": "stdout",
     "output_type": "stream",
     "text": [
      "Original Cofllection: [1, 2, 3]\n",
      "Collection of distinct numbers:\n",
      " [[3, 2, 1], [2, 3, 1], [2, 1, 3], [3, 1, 2], [1, 3, 2], [1, 2, 3]]\n"
     ]
    }
   ],
   "source": [
    "def permute(nums):\n",
    "    result_perms=[[]]\n",
    "    for n in nums:\n",
    "        new_perms=[]\n",
    "        for perm in result_perms:\n",
    "            for i in range(len(perm)+1):\n",
    "                new_perms.append(perm[:i]+[n]+perm[i:])\n",
    "                result_perms=new_perms\n",
    "    return result_perms\n",
    "my_nums=[1,2,3]\n",
    "print(\"Original Cofllection:\",my_nums)\n",
    "print(\"Collection of distinct numbers:\\n\",permute(my_nums))"
   ]
  },
  {
   "cell_type": "code",
   "execution_count": 84,
   "metadata": {},
   "outputs": [
    {
     "name": "stdout",
     "output_type": "stream",
     "text": [
      "12\n"
     ]
    }
   ],
   "source": [
    "def string_length(str):\n",
    "    count=0\n",
    "    for char in str:\n",
    "        count+= 1\n",
    "    return count\n",
    "print(string_length('w3school.com'))"
   ]
  },
  {
   "cell_type": "code",
   "execution_count": 85,
   "metadata": {},
   "outputs": [
    {
     "name": "stdout",
     "output_type": "stream",
     "text": [
      "{'g': 2, 'o': 3, 'l': 1, 'e': 1, '.': 1, 'c': 1, 'm': 1}\n"
     ]
    }
   ],
   "source": [
    "def char_frequency(str):\n",
    "    dict={}\n",
    "    for n in str:\n",
    "        keys=dict.keys()\n",
    "        if n in keys:\n",
    "            dict[n]+=1\n",
    "        else:\n",
    "            dict[n]=1\n",
    "    return dict\n",
    "print(char_frequency('google.com'))"
   ]
  },
  {
   "cell_type": "code",
   "execution_count": 86,
   "metadata": {},
   "outputs": [
    {
     "name": "stdout",
     "output_type": "stream",
     "text": [
      "w3ce\n",
      "chto\n"
     ]
    }
   ],
   "source": [
    "def string_both_ends(str):\n",
    "    if(len(str))<2:\n",
    "        return ''\n",
    "    return str[0:2]+str[-2:]\n",
    "print(string_both_ends('w3resource'))\n",
    "print(string_both_ends('chanto'))"
   ]
  },
  {
   "cell_type": "code",
   "execution_count": 87,
   "metadata": {},
   "outputs": [
    {
     "name": "stdout",
     "output_type": "stream",
     "text": [
      "resta$t\n"
     ]
    }
   ],
   "source": [
    "def change_char(str):\n",
    "    char=str[0]\n",
    "    str=str.replace(char,'$')\n",
    "    str=char+str[1:]\n",
    "    \n",
    "    return str\n",
    "print(change_char('restart'))"
   ]
  },
  {
   "cell_type": "code",
   "execution_count": 88,
   "metadata": {},
   "outputs": [
    {
     "name": "stdout",
     "output_type": "stream",
     "text": [
      "xyc\n",
      "abz\n"
     ]
    }
   ],
   "source": [
    "def chars_mix_up(a,b):\n",
    "    new_a=b[:2]+a[2:]\n",
    "    new_b=a[:2]+b[2:]\n",
    "    return new_a+'\\n'+new_b\n",
    "print(chars_mix_up('abc','xyz'))"
   ]
  },
  {
   "cell_type": "code",
   "execution_count": 89,
   "metadata": {},
   "outputs": [
    {
     "name": "stdout",
     "output_type": "stream",
     "text": [
      "The lyrics is good!\n",
      "The lyrics is poor!\n"
     ]
    }
   ],
   "source": [
    "def not_poor(str1):\n",
    "    snot=str1.find('not')\n",
    "    spoor=str1.find('poor')\n",
    "    \n",
    "    if spoor > snot and snot>0 and spoor>0:\n",
    "        str1=str1.replace(str1[snot:(spoor+4)], 'good')\n",
    "        return str1\n",
    "    else:\n",
    "        return str1\n",
    "print(not_poor('The lyrics is not that poor!'))\n",
    "print(not_poor('The lyrics is poor!'))"
   ]
  },
  {
   "cell_type": "code",
   "execution_count": 90,
   "metadata": {},
   "outputs": [
    {
     "name": "stdout",
     "output_type": "stream",
     "text": [
      "\n",
      " Longest word: Exercises\n",
      "length of the longest word: 9\n"
     ]
    }
   ],
   "source": [
    "def find_longest_word(words_list):\n",
    "    word_len= []\n",
    "    for n in words_list:\n",
    "        word_len.append((len(n),n))\n",
    "    word_len.sort()\n",
    "    return word_len[-1][0],word_len[-1][1]\n",
    "\n",
    "result=find_longest_word([\"PHP\",\"Exercises\",\"Backend\"])\n",
    "print(\"\\n Longest word:\",result[1])\n",
    "print(\"length of the longest word:\",result[0])                          "
   ]
  },
  {
   "cell_type": "code",
   "execution_count": 91,
   "metadata": {},
   "outputs": [
    {
     "name": "stdout",
     "output_type": "stream",
     "text": [
      "<class 'range'>\n"
     ]
    }
   ],
   "source": [
    "a=range(10)\n",
    "\n",
    "print(type(a))"
   ]
  },
  {
   "cell_type": "code",
   "execution_count": 92,
   "metadata": {},
   "outputs": [
    {
     "data": {
      "text/plain": [
       "array([[0., 0., 0.],\n",
       "       [0., 0., 0.]])"
      ]
     },
     "execution_count": 92,
     "metadata": {},
     "output_type": "execute_result"
    }
   ],
   "source": [
    "import numpy as np\n",
    "b_1=np.zeros((2,3))\n",
    "b_1"
   ]
  },
  {
   "cell_type": "code",
   "execution_count": 93,
   "metadata": {},
   "outputs": [
    {
     "data": {
      "text/plain": [
       "array([1., 1., 1., 1., 1.])"
      ]
     },
     "execution_count": 93,
     "metadata": {},
     "output_type": "execute_result"
    }
   ],
   "source": [
    "# with np.ones\n",
    "\n",
    "b_2=np.ones(5)\n",
    "b_2"
   ]
  },
  {
   "cell_type": "code",
   "execution_count": 94,
   "metadata": {},
   "outputs": [
    {
     "data": {
      "text/plain": [
       "array([5., 5., 5., 5., 5.])"
      ]
     },
     "execution_count": 94,
     "metadata": {},
     "output_type": "execute_result"
    }
   ],
   "source": [
    "b_3=np.empty(5)\n",
    "b_3.fill(5)\n",
    "b_3"
   ]
  },
  {
   "cell_type": "code",
   "execution_count": 95,
   "metadata": {},
   "outputs": [],
   "source": [
    "b_4=np.full(5,5)"
   ]
  },
  {
   "cell_type": "code",
   "execution_count": 96,
   "metadata": {},
   "outputs": [
    {
     "data": {
      "text/plain": [
       "array([[1, 2, 3],\n",
       "       [2, 3, 4],\n",
       "       [4, 5, 6]])"
      ]
     },
     "execution_count": 96,
     "metadata": {},
     "output_type": "execute_result"
    }
   ],
   "source": [
    "x=np.array([[1,2,3],[2,3,4],[4,5,6]])\n",
    "x"
   ]
  },
  {
   "cell_type": "code",
   "execution_count": 97,
   "metadata": {},
   "outputs": [
    {
     "data": {
      "text/plain": [
       "array([0, 1, 2, 3, 4, 5, 6, 7, 8])"
      ]
     },
     "execution_count": 97,
     "metadata": {},
     "output_type": "execute_result"
    }
   ],
   "source": [
    "a=np.arange(9)\n",
    "a"
   ]
  },
  {
   "cell_type": "code",
   "execution_count": 98,
   "metadata": {},
   "outputs": [
    {
     "name": "stdout",
     "output_type": "stream",
     "text": [
      "[2 4 6 8]\n"
     ]
    }
   ],
   "source": [
    "x=np.array([1,2,3,4])\n",
    "y=np.array([1,2,3,4])\n",
    "a=x+y\n",
    "print(a)"
   ]
  },
  {
   "cell_type": "code",
   "execution_count": 99,
   "metadata": {},
   "outputs": [
    {
     "data": {
      "text/plain": [
       "array([[ 3,  4,  9],\n",
       "       [ 7,  9,  5],\n",
       "       [12,  8, 10]])"
      ]
     },
     "execution_count": 99,
     "metadata": {},
     "output_type": "execute_result"
    }
   ],
   "source": [
    "#Exercise 1: create two array per mothod\n",
    "\n",
    "x=np.array([[1,2,3],[2,3,4],[4,5,6]])\n",
    "y=np.array([[2,2,6],[5,6,1],[8,3,4]])\n",
    "z=x+y\n",
    "z"
   ]
  },
  {
   "cell_type": "code",
   "execution_count": 101,
   "metadata": {},
   "outputs": [
    {
     "ename": "TypeError",
     "evalue": "Cannot interpret '3.5' as a data type",
     "output_type": "error",
     "traceback": [
      "\u001b[1;31m---------------------------------------------------------------------------\u001b[0m",
      "\u001b[1;31mTypeError\u001b[0m                                 Traceback (most recent call last)",
      "\u001b[1;32m<ipython-input-101-2965f5f9ddee>\u001b[0m in \u001b[0;36m<module>\u001b[1;34m\u001b[0m\n\u001b[1;32m----> 1\u001b[1;33m \u001b[0mnp\u001b[0m\u001b[1;33m.\u001b[0m\u001b[0mfromfunction\u001b[0m\u001b[1;33m(\u001b[0m\u001b[1;32mlambda\u001b[0m \u001b[0mi\u001b[0m\u001b[1;33m,\u001b[0m \u001b[0mj\u001b[0m\u001b[1;33m:\u001b[0m \u001b[0mi\u001b[0m \u001b[1;33m==\u001b[0m \u001b[0mj\u001b[0m\u001b[1;33m,\u001b[0m \u001b[1;33m(\u001b[0m\u001b[1;36m4\u001b[0m\u001b[1;33m,\u001b[0m \u001b[1;36m3\u001b[0m\u001b[1;33m)\u001b[0m\u001b[1;33m,\u001b[0m \u001b[0mdtype\u001b[0m\u001b[1;33m=\u001b[0m\u001b[0mint\u001b[0m\u001b[1;33m)\u001b[0m\u001b[1;33m\u001b[0m\u001b[1;33m\u001b[0m\u001b[0m\n\u001b[0m",
      "\u001b[1;32m~\\anaconda3\\lib\\site-packages\\numpy\\core\\numeric.py\u001b[0m in \u001b[0;36mfromfunction\u001b[1;34m(function, shape, dtype, **kwargs)\u001b[0m\n\u001b[0;32m   1806\u001b[0m \u001b[1;33m\u001b[0m\u001b[0m\n\u001b[0;32m   1807\u001b[0m     \"\"\"\n\u001b[1;32m-> 1808\u001b[1;33m     \u001b[0margs\u001b[0m \u001b[1;33m=\u001b[0m \u001b[0mindices\u001b[0m\u001b[1;33m(\u001b[0m\u001b[0mshape\u001b[0m\u001b[1;33m,\u001b[0m \u001b[0mdtype\u001b[0m\u001b[1;33m=\u001b[0m\u001b[0mdtype\u001b[0m\u001b[1;33m)\u001b[0m\u001b[1;33m\u001b[0m\u001b[1;33m\u001b[0m\u001b[0m\n\u001b[0m\u001b[0;32m   1809\u001b[0m     \u001b[1;32mreturn\u001b[0m \u001b[0mfunction\u001b[0m\u001b[1;33m(\u001b[0m\u001b[1;33m*\u001b[0m\u001b[0margs\u001b[0m\u001b[1;33m,\u001b[0m \u001b[1;33m**\u001b[0m\u001b[0mkwargs\u001b[0m\u001b[1;33m)\u001b[0m\u001b[1;33m\u001b[0m\u001b[1;33m\u001b[0m\u001b[0m\n\u001b[0;32m   1810\u001b[0m \u001b[1;33m\u001b[0m\u001b[0m\n",
      "\u001b[1;32m~\\anaconda3\\lib\\site-packages\\numpy\\core\\numeric.py\u001b[0m in \u001b[0;36mindices\u001b[1;34m(dimensions, dtype, sparse)\u001b[0m\n\u001b[0;32m   1742\u001b[0m         \u001b[0mres\u001b[0m \u001b[1;33m=\u001b[0m \u001b[0mtuple\u001b[0m\u001b[1;33m(\u001b[0m\u001b[1;33m)\u001b[0m\u001b[1;33m\u001b[0m\u001b[1;33m\u001b[0m\u001b[0m\n\u001b[0;32m   1743\u001b[0m     \u001b[1;32melse\u001b[0m\u001b[1;33m:\u001b[0m\u001b[1;33m\u001b[0m\u001b[1;33m\u001b[0m\u001b[0m\n\u001b[1;32m-> 1744\u001b[1;33m         \u001b[0mres\u001b[0m \u001b[1;33m=\u001b[0m \u001b[0mempty\u001b[0m\u001b[1;33m(\u001b[0m\u001b[1;33m(\u001b[0m\u001b[0mN\u001b[0m\u001b[1;33m,\u001b[0m\u001b[1;33m)\u001b[0m\u001b[1;33m+\u001b[0m\u001b[0mdimensions\u001b[0m\u001b[1;33m,\u001b[0m \u001b[0mdtype\u001b[0m\u001b[1;33m=\u001b[0m\u001b[0mdtype\u001b[0m\u001b[1;33m)\u001b[0m\u001b[1;33m\u001b[0m\u001b[1;33m\u001b[0m\u001b[0m\n\u001b[0m\u001b[0;32m   1745\u001b[0m     \u001b[1;32mfor\u001b[0m \u001b[0mi\u001b[0m\u001b[1;33m,\u001b[0m \u001b[0mdim\u001b[0m \u001b[1;32min\u001b[0m \u001b[0menumerate\u001b[0m\u001b[1;33m(\u001b[0m\u001b[0mdimensions\u001b[0m\u001b[1;33m)\u001b[0m\u001b[1;33m:\u001b[0m\u001b[1;33m\u001b[0m\u001b[1;33m\u001b[0m\u001b[0m\n\u001b[0;32m   1746\u001b[0m         idx = arange(dim, dtype=dtype).reshape(\n",
      "\u001b[1;31mTypeError\u001b[0m: Cannot interpret '3.5' as a data type"
     ]
    }
   ],
   "source": [
    "np.fromfunction(lambda i, j: i == j, (4, 3), dtype=int)"
   ]
  },
  {
   "cell_type": "code",
   "execution_count": 100,
   "metadata": {},
   "outputs": [
    {
     "ename": "TypeError",
     "evalue": "Cannot interpret '3.5' as a data type",
     "output_type": "error",
     "traceback": [
      "\u001b[1;31m---------------------------------------------------------------------------\u001b[0m",
      "\u001b[1;31mTypeError\u001b[0m                                 Traceback (most recent call last)",
      "\u001b[1;32m<ipython-input-100-a872cf3939ae>\u001b[0m in \u001b[0;36m<module>\u001b[1;34m\u001b[0m\n\u001b[0;32m      1\u001b[0m \u001b[0mg\u001b[0m \u001b[1;33m=\u001b[0m \u001b[1;32mlambda\u001b[0m \u001b[0mm\u001b[0m\u001b[1;33m,\u001b[0m \u001b[0mn\u001b[0m\u001b[1;33m:\u001b[0m \u001b[0mn\u001b[0m \u001b[1;33m+\u001b[0m \u001b[1;36m10\u001b[0m \u001b[1;33m*\u001b[0m \u001b[0mm\u001b[0m\u001b[1;33m\u001b[0m\u001b[1;33m\u001b[0m\u001b[0m\n\u001b[1;32m----> 2\u001b[1;33m \u001b[0mg_0\u001b[0m \u001b[1;33m=\u001b[0m  \u001b[0mnp\u001b[0m\u001b[1;33m.\u001b[0m\u001b[0mfromfunction\u001b[0m\u001b[1;33m(\u001b[0m\u001b[0mg\u001b[0m\u001b[1;33m,\u001b[0m \u001b[1;33m(\u001b[0m\u001b[1;36m5\u001b[0m\u001b[1;33m,\u001b[0m \u001b[1;36m6\u001b[0m\u001b[1;33m)\u001b[0m\u001b[1;33m,\u001b[0m \u001b[0mdtype\u001b[0m\u001b[1;33m=\u001b[0m\u001b[0mint\u001b[0m\u001b[1;33m)\u001b[0m \u001b[1;31m# numpy.fromfunction(function, shape, **kwargs)\u001b[0m\u001b[1;33m\u001b[0m\u001b[1;33m\u001b[0m\u001b[0m\n\u001b[0m\u001b[0;32m      3\u001b[0m \u001b[0mg_0\u001b[0m\u001b[1;33m\u001b[0m\u001b[1;33m\u001b[0m\u001b[0m\n",
      "\u001b[1;32m~\\anaconda3\\lib\\site-packages\\numpy\\core\\numeric.py\u001b[0m in \u001b[0;36mfromfunction\u001b[1;34m(function, shape, dtype, **kwargs)\u001b[0m\n\u001b[0;32m   1806\u001b[0m \u001b[1;33m\u001b[0m\u001b[0m\n\u001b[0;32m   1807\u001b[0m     \"\"\"\n\u001b[1;32m-> 1808\u001b[1;33m     \u001b[0margs\u001b[0m \u001b[1;33m=\u001b[0m \u001b[0mindices\u001b[0m\u001b[1;33m(\u001b[0m\u001b[0mshape\u001b[0m\u001b[1;33m,\u001b[0m \u001b[0mdtype\u001b[0m\u001b[1;33m=\u001b[0m\u001b[0mdtype\u001b[0m\u001b[1;33m)\u001b[0m\u001b[1;33m\u001b[0m\u001b[1;33m\u001b[0m\u001b[0m\n\u001b[0m\u001b[0;32m   1809\u001b[0m     \u001b[1;32mreturn\u001b[0m \u001b[0mfunction\u001b[0m\u001b[1;33m(\u001b[0m\u001b[1;33m*\u001b[0m\u001b[0margs\u001b[0m\u001b[1;33m,\u001b[0m \u001b[1;33m**\u001b[0m\u001b[0mkwargs\u001b[0m\u001b[1;33m)\u001b[0m\u001b[1;33m\u001b[0m\u001b[1;33m\u001b[0m\u001b[0m\n\u001b[0;32m   1810\u001b[0m \u001b[1;33m\u001b[0m\u001b[0m\n",
      "\u001b[1;32m~\\anaconda3\\lib\\site-packages\\numpy\\core\\numeric.py\u001b[0m in \u001b[0;36mindices\u001b[1;34m(dimensions, dtype, sparse)\u001b[0m\n\u001b[0;32m   1742\u001b[0m         \u001b[0mres\u001b[0m \u001b[1;33m=\u001b[0m \u001b[0mtuple\u001b[0m\u001b[1;33m(\u001b[0m\u001b[1;33m)\u001b[0m\u001b[1;33m\u001b[0m\u001b[1;33m\u001b[0m\u001b[0m\n\u001b[0;32m   1743\u001b[0m     \u001b[1;32melse\u001b[0m\u001b[1;33m:\u001b[0m\u001b[1;33m\u001b[0m\u001b[1;33m\u001b[0m\u001b[0m\n\u001b[1;32m-> 1744\u001b[1;33m         \u001b[0mres\u001b[0m \u001b[1;33m=\u001b[0m \u001b[0mempty\u001b[0m\u001b[1;33m(\u001b[0m\u001b[1;33m(\u001b[0m\u001b[0mN\u001b[0m\u001b[1;33m,\u001b[0m\u001b[1;33m)\u001b[0m\u001b[1;33m+\u001b[0m\u001b[0mdimensions\u001b[0m\u001b[1;33m,\u001b[0m \u001b[0mdtype\u001b[0m\u001b[1;33m=\u001b[0m\u001b[0mdtype\u001b[0m\u001b[1;33m)\u001b[0m\u001b[1;33m\u001b[0m\u001b[1;33m\u001b[0m\u001b[0m\n\u001b[0m\u001b[0;32m   1745\u001b[0m     \u001b[1;32mfor\u001b[0m \u001b[0mi\u001b[0m\u001b[1;33m,\u001b[0m \u001b[0mdim\u001b[0m \u001b[1;32min\u001b[0m \u001b[0menumerate\u001b[0m\u001b[1;33m(\u001b[0m\u001b[0mdimensions\u001b[0m\u001b[1;33m)\u001b[0m\u001b[1;33m:\u001b[0m\u001b[1;33m\u001b[0m\u001b[1;33m\u001b[0m\u001b[0m\n\u001b[0;32m   1746\u001b[0m         idx = arange(dim, dtype=dtype).reshape(\n",
      "\u001b[1;31mTypeError\u001b[0m: Cannot interpret '3.5' as a data type"
     ]
    }
   ],
   "source": [
    "g = lambda m, n: n + 10 * m\n",
    "g_0 =  np.fromfunction(g, (5, 6), dtype=int) # numpy.fromfunction(function, shape, **kwargs)\n",
    "g_0"
   ]
  },
  {
   "cell_type": "code",
   "execution_count": null,
   "metadata": {},
   "outputs": [],
   "source": [
    "g_0[:4,2:4]"
   ]
  },
  {
   "cell_type": "code",
   "execution_count": null,
   "metadata": {},
   "outputs": [],
   "source": [
    "g_0[1:4,1:5]"
   ]
  },
  {
   "cell_type": "code",
   "execution_count": null,
   "metadata": {},
   "outputs": [],
   "source": [
    "x=np.array([1,2,3,4])\n",
    "y=np.array([1,3,5,6,8])\n",
    "x,y=np.meshgrid(x,y)\n",
    "x"
   ]
  },
  {
   "cell_type": "code",
   "execution_count": null,
   "metadata": {},
   "outputs": [],
   "source": [
    "y"
   ]
  },
  {
   "cell_type": "code",
   "execution_count": null,
   "metadata": {},
   "outputs": [],
   "source": [
    "from array import *\n",
    "array_num=array('i',[1,3,5,7,9])\n",
    "for i in array_num:\n",
    "    print(i)\n",
    "print(\"Access first three itmes individually\")\n",
    "print(array_num[0])\n",
    "print(array_num[1])\n",
    "print(array_num[2])"
   ]
  },
  {
   "cell_type": "code",
   "execution_count": null,
   "metadata": {},
   "outputs": [],
   "source": [
    "from array import *\n",
    "array_num=array('i',[1,3,5,7,9])\n",
    "print(\"Original array:\"+str(array_num))\n",
    "print(\"Append 11 at the end of array:\")\n",
    "array_num.append(11)\n",
    "print(\"New array:\"+str(array_num))"
   ]
  },
  {
   "cell_type": "code",
   "execution_count": null,
   "metadata": {},
   "outputs": [],
   "source": [
    "from array import *\n",
    "\n",
    "array_num=array('i',[1,3,5,7,9])\n",
    "print(\"original array:\"+str(array_num))\n",
    "print(\"Length in bytes of one array item:\"+str())"
   ]
  },
  {
   "cell_type": "code",
   "execution_count": null,
   "metadata": {},
   "outputs": [],
   "source": [
    "A=np.arange(15)\n",
    "A"
   ]
  },
  {
   "cell_type": "code",
   "execution_count": null,
   "metadata": {},
   "outputs": [],
   "source": [
    "A[0]"
   ]
  },
  {
   "cell_type": "code",
   "execution_count": null,
   "metadata": {},
   "outputs": [],
   "source": [
    "B=g_0[1:5,1:5]\n",
    "B"
   ]
  },
  {
   "cell_type": "code",
   "execution_count": null,
   "metadata": {},
   "outputs": [],
   "source": [
    "B[:,:]=0\n",
    "g_0"
   ]
  },
  {
   "cell_type": "code",
   "execution_count": null,
   "metadata": {},
   "outputs": [],
   "source": [
    "c=B[1:3,1:3]\n",
    "c"
   ]
  },
  {
   "cell_type": "code",
   "execution_count": null,
   "metadata": {},
   "outputs": [],
   "source": [
    "c[:,:]=0\n",
    "g_0"
   ]
  },
  {
   "cell_type": "code",
   "execution_count": null,
   "metadata": {},
   "outputs": [],
   "source": [
    "B"
   ]
  },
  {
   "cell_type": "code",
   "execution_count": null,
   "metadata": {},
   "outputs": [],
   "source": [
    "from array import *\n",
    "array_num=array('i',[1,3,7,5,9])\n",
    "print(\"Original array:\"+str(array_num))\n",
    "print(\"Remove the third item from the arrays:\")\n",
    "array_num.pop(2)\n",
    "print(\"New array:\"+str(array_num))"
   ]
  },
  {
   "cell_type": "code",
   "execution_count": null,
   "metadata": {},
   "outputs": [],
   "source": [
    "f=np.arange(15)\n",
    "f"
   ]
  },
  {
   "cell_type": "code",
   "execution_count": null,
   "metadata": {},
   "outputs": [],
   "source": [
    "g=f.reshape(3,5)\n",
    "print(g)"
   ]
  },
  {
   "cell_type": "code",
   "execution_count": null,
   "metadata": {},
   "outputs": [],
   "source": [
    "h=np.arange(120)\n",
    "h"
   ]
  },
  {
   "cell_type": "code",
   "execution_count": 109,
   "metadata": {},
   "outputs": [
    {
     "ename": "NameError",
     "evalue": "name 'h' is not defined",
     "output_type": "error",
     "traceback": [
      "\u001b[1;31m---------------------------------------------------------------------------\u001b[0m",
      "\u001b[1;31mNameError\u001b[0m                                 Traceback (most recent call last)",
      "\u001b[1;32m<ipython-input-109-b2efe539ae39>\u001b[0m in \u001b[0;36m<module>\u001b[1;34m\u001b[0m\n\u001b[1;32m----> 1\u001b[1;33m \u001b[0mh\u001b[0m\u001b[1;33m=\u001b[0m\u001b[0mh\u001b[0m\u001b[1;33m.\u001b[0m\u001b[0mreshape\u001b[0m\u001b[1;33m(\u001b[0m\u001b[1;36m3\u001b[0m\u001b[1;33m,\u001b[0m\u001b[1;36m40\u001b[0m\u001b[1;33m)\u001b[0m\u001b[1;33m\u001b[0m\u001b[1;33m\u001b[0m\u001b[0m\n\u001b[0m\u001b[0;32m      2\u001b[0m \u001b[0mprint\u001b[0m\u001b[1;33m(\u001b[0m\u001b[0mh\u001b[0m\u001b[1;33m)\u001b[0m\u001b[1;33m\u001b[0m\u001b[1;33m\u001b[0m\u001b[0m\n",
      "\u001b[1;31mNameError\u001b[0m: name 'h' is not defined"
     ]
    }
   ],
   "source": [
    "h=h.reshape(3,40)\n",
    "print(h)"
   ]
  },
  {
   "cell_type": "code",
   "execution_count": 110,
   "metadata": {},
   "outputs": [],
   "source": [
    "import numpy as np"
   ]
  },
  {
   "cell_type": "code",
   "execution_count": 111,
   "metadata": {},
   "outputs": [
    {
     "name": "stdout",
     "output_type": "stream",
     "text": [
      "[1 2 3] [99 99] [3 2 1]\n"
     ]
    }
   ],
   "source": [
    "x=[1,2,3,99,99,3,2,1]\n",
    "x1,x2,x3=np.split(x,[3,5])\n",
    "print(x1,x2,x3)"
   ]
  },
  {
   "cell_type": "code",
   "execution_count": 108,
   "metadata": {},
   "outputs": [
    {
     "ename": "NameError",
     "evalue": "name 'grid' is not defined",
     "output_type": "error",
     "traceback": [
      "\u001b[1;31m---------------------------------------------------------------------------\u001b[0m",
      "\u001b[1;31mNameError\u001b[0m                                 Traceback (most recent call last)",
      "\u001b[1;32m<ipython-input-108-62364887dc22>\u001b[0m in \u001b[0;36m<module>\u001b[1;34m\u001b[0m\n\u001b[1;32m----> 1\u001b[1;33m \u001b[0mupper\u001b[0m\u001b[1;33m,\u001b[0m \u001b[0mlower\u001b[0m \u001b[1;33m=\u001b[0m\u001b[0mnp\u001b[0m\u001b[1;33m.\u001b[0m\u001b[0mvsplit\u001b[0m\u001b[1;33m(\u001b[0m\u001b[0mgrid\u001b[0m\u001b[1;33m,\u001b[0m\u001b[1;33m[\u001b[0m\u001b[1;36m3\u001b[0m\u001b[1;33m]\u001b[0m\u001b[1;33m)\u001b[0m\u001b[1;33m\u001b[0m\u001b[1;33m\u001b[0m\u001b[0m\n\u001b[0m\u001b[0;32m      2\u001b[0m \u001b[0mprint\u001b[0m\u001b[1;33m(\u001b[0m\u001b[0mupper\u001b[0m\u001b[1;33m)\u001b[0m\u001b[1;33m\u001b[0m\u001b[1;33m\u001b[0m\u001b[0m\n\u001b[0;32m      3\u001b[0m \u001b[0mprint\u001b[0m\u001b[1;33m(\u001b[0m\u001b[0mlower\u001b[0m\u001b[1;33m)\u001b[0m\u001b[1;33m\u001b[0m\u001b[1;33m\u001b[0m\u001b[0m\n",
      "\u001b[1;31mNameError\u001b[0m: name 'grid' is not defined"
     ]
    }
   ],
   "source": [
    "upper, lower =np.vsplit(grid,[3])\n",
    "print(upper)\n",
    "print(lower)"
   ]
  },
  {
   "cell_type": "code",
   "execution_count": 3,
   "metadata": {},
   "outputs": [
    {
     "name": "stdout",
     "output_type": "stream",
     "text": [
      "{1, 6}\n"
     ]
    }
   ],
   "source": [
    "a = {1,2,6,8}\n",
    "b = {2,3,5,8}\n",
    "print((a) - (b))"
   ]
  },
  {
   "cell_type": "code",
   "execution_count": 8,
   "metadata": {},
   "outputs": [
    {
     "name": "stdout",
     "output_type": "stream",
     "text": [
      "[[1 2 3]\n",
      " [4 5 6]\n",
      " [7 8 9]]\n",
      "[1 2 3]\n",
      "[[1 2 3]]\n",
      "[]\n"
     ]
    }
   ],
   "source": [
    "import numpy as np\n",
    "a=np.array([[1,2,3],[4,5,6],[7,8,9]])\n",
    "print(a)\n",
    "print(a[0])\n",
    "print(a[:1])\n",
    "print(a[1:1])"
   ]
  },
  {
   "cell_type": "code",
   "execution_count": 10,
   "metadata": {},
   "outputs": [
    {
     "name": "stdout",
     "output_type": "stream",
     "text": [
      "[[1 2 3]\n",
      " [4 5 6]]\n",
      "[[3 4 5]\n",
      " [5 6 7]]\n",
      "[[1 2 3]\n",
      " [4 5 6]\n",
      " [3 4 5]\n",
      " [5 6 7]]\n",
      "[[1 2 3 3 4 5]\n",
      " [4 5 6 5 6 7]]\n"
     ]
    }
   ],
   "source": [
    "a=np.array([[1,2,3],[4,5,6]])\n",
    "print(a)\n",
    "b=np.array([[3,4,5],[5,6,7]])\n",
    "print(b)\n",
    "print(np.concatenate([a,b],axis=0))\n",
    "print(np.concatenate([a,b],axis=1))"
   ]
  },
  {
   "cell_type": "code",
   "execution_count": null,
   "metadata": {},
   "outputs": [],
   "source": [
    "print(np.stack(a,b))"
   ]
  }
 ],
 "metadata": {
  "kernelspec": {
   "display_name": "Python 3",
   "language": "python",
   "name": "python3"
  },
  "language_info": {
   "codemirror_mode": {
    "name": "ipython",
    "version": 3
   },
   "file_extension": ".py",
   "mimetype": "text/x-python",
   "name": "python",
   "nbconvert_exporter": "python",
   "pygments_lexer": "ipython3",
   "version": "3.8.5"
  }
 },
 "nbformat": 4,
 "nbformat_minor": 4
}
